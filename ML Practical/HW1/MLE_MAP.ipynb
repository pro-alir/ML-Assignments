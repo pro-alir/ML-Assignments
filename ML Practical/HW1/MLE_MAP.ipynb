{
  "cells": [
    {
      "cell_type": "markdown",
      "metadata": {
        "id": "K1-izC4ZKHJ9"
      },
      "source": [
        "<h1 style=\"text-align: center\">\n",
        "Machine Learning </br>\n",
        "MLE & MAP in Python\n",
        "</h1>\n"
      ]
    },
    {
      "cell_type": "markdown",
      "metadata": {
        "id": "YhTuYwHYbE_1"
      },
      "source": [
        "## Objective\n",
        "This exercise will help you gain a deeper understanding of, and insights into, Maximum Likelihood Estimation (MLE) and Maximum A Posteriori (MAP) estimation$\\textit{Maximum Likelihood Estimation (MLE) and Maximum A Posteriori (MAP) }$ :) \\\\\n",
        "Let’s say you have a barrel of apples that are all different sizes. You pick an apple at random, and you want to know its weight. Unfortunately, all you have is a broken scale. answer the questions below."
      ]
    },
    {
      "cell_type": "markdown",
      "metadata": {
        "id": "eSaLb6AYa9DJ"
      },
      "source": [
        "1) For the sake of this section, lets imagine a farmer tells you that the scale returns the weight of the object with an error of +/- a standard deviation of 5g. We can describe this mathematically as:\n",
        "$$\n",
        "measurement = weight + \\mathcal{N}(0, 5g)\n",
        "$$\n",
        "You can weigh the apple as many times as you want, so weigh it 100 times.\n",
        "plot its histogram of your 100 measurements. (y axis is the counts and x-axis is the measured weight)"
      ]
    },
    {
      "cell_type": "code",
      "execution_count": 54,
      "metadata": {
        "id": "hPMnHTcia07a",
        "colab": {
          "base_uri": "https://localhost:8080/",
          "height": 430
        },
        "outputId": "4c90f604-8f19-4633-84ee-ccd50747ef9d"
      },
      "outputs": [
        {
          "output_type": "display_data",
          "data": {
            "text/plain": [
              "<Figure size 640x480 with 1 Axes>"
            ],
            "image/png": "[encoded data removed]"
          },
          "metadata": {}
        }
      ],
      "source": [
        "import numpy as np\n",
        "import matplotlib.pyplot as plt\n",
        "\n",
        "# I assumed the true weight is 150\n",
        "true_weight = 150\n",
        "std_dev = 5\n",
        "measurements = np.random.normal(true_weight, std_dev, 100)\n",
        "\n",
        "plt.hist(measurements, bins=20, edgecolor='black')\n",
        "plt.ylabel('Counts')\n",
        "plt.show()"
      ]
    },
    {
      "cell_type": "markdown",
      "metadata": {
        "id": "HD9Mqy-bcPi5"
      },
      "source": [
        "2) Find the average weight of the apple.\n",
        "Is it a good guess? state your reason."
      ]
    },
    {
      "cell_type": "code",
      "execution_count": 55,
      "metadata": {
        "id": "xlCBTC0lcPKa",
        "colab": {
          "base_uri": "https://localhost:8080/"
        },
        "outputId": "e15897c3-6337-4490-9e97-850776651c36"
      },
      "outputs": [
        {
          "output_type": "stream",
          "name": "stdout",
          "text": [
            "The average weight is:  150.2486271513936\n"
          ]
        }
      ],
      "source": [
        "average_weight = measurements.mean()\n",
        "print('The average weight is: ', average_weight)\n",
        "\n",
        "# This is a good guess. This is because of central limit theorem.\n",
        "# Base on central limit theorem, the mean of a large number of independent and identically distributed variables will be normally distributed around the true mean, as long as the number of variables is large enough."
      ]
    },
    {
      "cell_type": "markdown",
      "metadata": {
        "id": "y-P9PJuKcrbq"
      },
      "source": [
        "3) we are going to use grid approximation for calculating the MLE. here is the link if you wnat to get more fimilar with this technique:\n",
        "https://www.bayesrulesbook.com/chapter-6\n",
        "\n",
        "Our end goal is to find the weight of the apple, given the data we have. To formulate it in a Bayesian way: We’ll ask what is the probability of the apple having weight, $w$, given the measurements we took, $X$. And, because we're formulating this in a Bayesian way, we use Bayes’ Law to find the answer:\n",
        "\n",
        "$$\n",
        "P(w|X) = \\frac{P(X|w)P(w)}{P(X)}\n",
        "$$\n",
        "\n",
        "If we make no assumptions about the initial weight of our apple, then we can drop $P(w)$. We’ll say all sizes of apples are equally likely (we’ll revisit this assumption in the MAP approximation).\n",
        "\n",
        "Furthermore, we’ll drop $P(X)$ - the probability of seeing our data. This is a normalization constant and will be important if we do want to know the probabilities of apple weights. But, for right now, our end goal is to only to find the most probable weight. $P(X)$ is independent of $w$, so we can drop it if we’re doing relative comparisons.\n",
        "\n",
        "This leaves us with $P(X|w)$, our likelihood, as in, what is the likelihood that we would see the data, $X$, given an apple of weight $w$. If we maximize this, we maximize the probability that we will guess the right weight.\n",
        "\n",
        "The grid approximation is probably the simplest way to do this. Basically, we’ll systematically step through different weight guesses, and compare what it would look like if this hypothetical weight were to generate data. We’ll compare this hypothetical data to our real data and pick the one that matches the best.\n",
        "\n",
        "To formulate this mathematically:\n",
        "\n",
        "For each of these guesses, we’re asking \"what is the probability that the data we have, came from the distribution that our weight guess would generate\". Because each measurement is independent from another, we can break the above equation down into finding the probability on a per measurement basis:\n",
        "\n",
        "$$\n",
        "P(X|w) = \\prod_{i}^{N} p(x_i|w)\n",
        "$$\n",
        "\n",
        "So, if we multiply the probability that we would see each individual data point - given our weight guess - then we can find one number comparing our weight guess to all of our data.\n",
        "\n",
        "The peak in the likelihood is the weight of the apple.\n",
        "\n",
        "To make it computationally easier,\n",
        "\n",
        "$$\n",
        "\\log P(X|w) = \\log \\prod_{i}^{N} p(x_i|w) = \\sum_{i}^{N} \\log p(d_i|w)\n",
        "$$\n",
        "\n",
        "\n",
        "\n",
        "a) Why did we use log likelihood? Is it ok to do so?\n",
        "\n",
        "**Answer**: Yes, it is ok to use log likelihood. We use this because it turns products to sums, and this is easier to compute and easier to work with, especially wen probabilities are too small. This is okay because log is strictly monotonic and preserves the order of the values.\n",
        "\n",
        "\n",
        "b) do the grid approximation and complete the cell below"
      ]
    },
    {
      "cell_type": "code",
      "execution_count": 56,
      "metadata": {
        "id": "9NnWmxzTiRfr",
        "colab": {
          "base_uri": "https://localhost:8080/"
        },
        "outputId": "093841ef-ef99-499b-8ed3-fd89bcb4a4a7"
      },
      "outputs": [
        {
          "output_type": "stream",
          "name": "stdout",
          "text": [
            "MLE: 151.0204081632653\n"
          ]
        }
      ],
      "source": [
        "from scipy.stats import norm\n",
        "import numpy as np\n",
        "\n",
        "# since I assumed the true weight is 150, I changed this line of code to a reasonable interval\n",
        "weight_grid = np.linspace(100, 200)\n",
        "# print(weight_grid)\n",
        "log_likelihoods = []\n",
        "\n",
        "for weight_guess in weight_grid:\n",
        "    log_likelihood = np.sum(norm.logpdf(measurements, loc=weight_guess, scale=5))\n",
        "    log_likelihoods.append(log_likelihood)\n",
        "\n",
        "log_likelihoods = np.array(log_likelihoods)\n",
        "\n",
        "mle_weight = weight_grid[np.argmax(log_likelihoods)]\n",
        "print(\"MLE:\", mle_weight)"
      ]
    },
    {
      "cell_type": "markdown",
      "metadata": {
        "id": "NN3lt2npcc2S"
      },
      "source": [
        "Play around with the code and try to answer the following questions regarding MLE and MAP. You can draw plots to visualize as well."
      ]
    },
    {
      "cell_type": "code",
      "execution_count": 57,
      "metadata": {
        "id": "ezcWTpNQamCL",
        "colab": {
          "base_uri": "https://localhost:8080/"
        },
        "outputId": "3b348445-5afd-4478-d8b8-317fe039dac7"
      },
      "outputs": [
        {
          "output_type": "stream",
          "name": "stdout",
          "text": [
            "Average measurement: 93.261 g\n",
            "Maximum Likelihood estimate: 93.465 g\n",
            "Maximum A Posterior estimate: 51.253 g\n",
            "The true weight of the apple was: 93.977 g\n"
          ]
        }
      ],
      "source": [
        "# After changinge the numbers of error, number of measurements, and prior, I set them to their default values.\n",
        "\n",
        "import numpy as np\n",
        "from scipy.stats import norm, invgamma\n",
        "\n",
        "\n",
        "# The barrel of apples\n",
        "# The average apples is between 70-100 g\n",
        "BARREL = np.random.normal(loc=85, scale=20, size=100)\n",
        "# Grid\n",
        "WEIGHT_GUESSES = np.linspace(1, 200, 100)\n",
        "ERROR_GUESSES = np.linspace(.1, 50, 100)\n",
        "\n",
        "# NOTE: Try changing the scale error\n",
        "# in practice, you would not know this number\n",
        "SCALE_ERR = 5\n",
        "\n",
        "# NOTE: Try changing the number of measurements taken\n",
        "N_MEASURMENTS = 10\n",
        "\n",
        "# NOTE: Try changing the prior values and distributions\n",
        "PRIOR_WEIGHT = norm(50, 1).logpdf(WEIGHT_GUESSES)\n",
        "PRIOR_ERR = invgamma(4).logpdf(ERROR_GUESSES)\n",
        "\n",
        "LOG_PRIOR_GRID = np.add.outer(PRIOR_ERR, PRIOR_WEIGHT)\n",
        "\n",
        "\n",
        "def read_scale(apple):\n",
        "    return apple + np.random.normal(loc=0, scale=SCALE_ERR)\n",
        "\n",
        "\n",
        "def get_log_likelihood_grid(measurments):\n",
        "    log_liklelihood = [\n",
        "        [\n",
        "            norm(weight_guess, error_guess).logpdf(measurments).sum()\n",
        "            for weight_guess in WEIGHT_GUESSES\n",
        "        ]\n",
        "        for error_guess in ERROR_GUESSES\n",
        "    ]\n",
        "    return np.asarray(log_liklelihood)\n",
        "\n",
        "\n",
        "def get_mle(measurments):\n",
        "    log_likelihood = get_log_likelihood_grid(measurments)\n",
        "    max_likelihood_index = np.argwhere(log_likelihood == log_likelihood.max())[0][1]\n",
        "    return WEIGHT_GUESSES[max_likelihood_index]\n",
        "\n",
        "\n",
        "\n",
        "def get_map(measurements):\n",
        "    log_posterior = get_log_likelihood_grid(measurements) + LOG_PRIOR_GRID\n",
        "    max_posterior_index = np.argwhere(log_posterior == log_posterior.max())[0][1]\n",
        "    return WEIGHT_GUESSES[max_posterior_index]\n",
        "\n",
        "# Pick an apple at random\n",
        "apple = np.random.choice(BARREL)\n",
        "\n",
        "# weight the apple\n",
        "measurments = np.asarray([read_scale(apple) for _ in range(N_MEASURMENTS)])\n",
        "\n",
        "print(f\"Average measurement: {measurments.mean():.3f} g\")\n",
        "print(f\"Maximum Likelihood estimate: {get_mle(measurments):.3f} g\")\n",
        "print(f\"Maximum A Posterior estimate: {get_map(measurments):.3f} g\")\n",
        "print(f\"The true weight of the apple was: {apple:.3f} g\")"
      ]
    },
    {
      "cell_type": "markdown",
      "metadata": {
        "id": "LI_541TpetKk"
      },
      "source": [
        "<h3><i><i> Questions</h3>\n",
        "1.\n",
        "How sensitive is the MAP measurement to the choice of prior?\n",
        "\n",
        "**Answer:**\n",
        "The MAP estimate is sensitive to the choice of prior. This is because MAP puts prior into the estimation process. If the prior is very informative or biased, it can highly impact on the MAP estimate. A strong prior can overcome small datasets,  influencing the MAP estimate on the prior's peak. The shape and spread of the prior distribution is really important in MAP. low variance prior makes the MAP estimate highly sensitive to where this prior is centered. high variance prior makes map  more reliant on the data. If prior and data have a lot of differences, the MAP estimate can be heavily biased towards the prior belief."
      ]
    },
    {
      "cell_type": "markdown",
      "metadata": {
        "id": "RMV-wgYXes_O"
      },
      "source": [
        "<h3><i><i></h3>\n",
        "2. How sensitive is the MLE and MAP answer to the grid size?\n",
        "\n",
        "**Answer:**\n",
        "The grid size affects the resolution of the parameter estimation. A grid with more points and smaller intervals between points causes more precise approximation for MLE or MAP. However, after a certain point, the accuracu doesn't improve significantly. But inctreasing the grid size causes more computational costs. With a big grid, there's a risk of missing a certain point where MLE or MAP can give a better estimation."
      ]
    }
  ],
  "metadata": {
    "colab": {
      "provenance": []
    },
    "kernelspec": {
      "display_name": "Python 3",
      "name": "python3"
    },
    "language_info": {
      "name": "python"
    }
  },
  "nbformat": 4,
  "nbformat_minor": 0
}