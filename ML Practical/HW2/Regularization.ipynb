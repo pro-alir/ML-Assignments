{
  "nbformat": 4,
  "nbformat_minor": 0,
  "metadata": {
    "colab": {
      "provenance": [],
      "gpuType": "T4"
    },
    "kernelspec": {
      "name": "python3",
      "display_name": "Python 3"
    },
    "language_info": {
      "name": "python"
    }
  },
  "cells": [
    {
      "cell_type": "markdown",
      "source": [
        "# **Introduction**"
      ],
      "metadata": {
        "id": "6Y2oAz-bELlu"
      }
    },
    {
      "cell_type": "markdown",
      "source": [
        "In this assignment, you will work with a dataset that includes The Boston housing data was collected in 1978 and each of the 506 entries represent aggregated data about 14 features for homes from various suburbs in Boston, Massachusetts. The target variable of interest in this dataset is the median value of owner-occupied homes (MEDV), which serves as a proxy for the house prices.\n",
        "First, you will start by fitting a basic regression model using scikit-learn (sklearn) to establish a baseline for comparison. This basic regression model will serve as a reference point for evaluating the performance of more sophisticated models incorporating regularization techniques.\n",
        "\n",
        "Furthermore, you will apply L1 (Lasso) and L2 (Ridge) regularization techniques to refine your predictions and evaluate the impact of these methods on the accuracy of your results. Regularization is a technique used to prevent overfitting by adding a penalty term to the loss function, encouraging simpler models with smaller coefficients. L1 regularization (Lasso) encourages sparsity by penalizing the absolute values of coefficients, while L2 regularization (Ridge) penalizes the square of coefficients. By incorporating these regularization techniques, you aim to improve the generalization performance of your regression models and obtain more robust predictions of house prices in the Boston area."
      ],
      "metadata": {
        "id": "333JCswHnbQp"
      }
    },
    {
      "cell_type": "markdown",
      "source": [
        "## Imports"
      ],
      "metadata": {
        "id": "sDDdf9AAoYXt"
      }
    },
    {
      "cell_type": "code",
      "source": [
        "import os\n",
        "import pandas\n",
        "from sklearn.linear_model import LinearRegression, Lasso, Ridge\n",
        "from sklearn.metrics import mean_squared_error, r2_score\n",
        "from sklearn.model_selection import train_test_split\n",
        "from sklearn.preprocessing import StandardScaler, PolynomialFeatures\n",
        "import numpy as np\n",
        "import pandas as pd\n",
        "import seaborn as sns\n",
        "from joblib import dump, load\n",
        "from matplotlib import pyplot as plt\n",
        "\n",
        "!wget -O /HousingData.csv \"https://www.dropbox.com/scl/fi/j3rxgrd8l7fgczzhiedlp/new.csv?rlkey=yngaf57gumhtmm3hxffk20qll&dl=0\""
      ],
      "metadata": {
        "id": "kkjrbInyoRyN",
        "colab": {
          "base_uri": "https://localhost:8080/"
        },
        "outputId": "bc0826b6-0414-4be1-c618-f079c5c5cc0d"
      },
      "execution_count": 2,
      "outputs": [
        {
          "output_type": "stream",
          "name": "stdout",
          "text": [
            "--2024-04-12 11:07:00--  https://www.dropbox.com/scl/fi/j3rxgrd8l7fgczzhiedlp/new.csv?rlkey=yngaf57gumhtmm3hxffk20qll&dl=0\n",
            "Resolving www.dropbox.com (www.dropbox.com)... 162.125.1.18, 2620:100:6016:18::a27d:112\n",
            "Connecting to www.dropbox.com (www.dropbox.com)|162.125.1.18|:443... connected.\n",
            "HTTP request sent, awaiting response... 302 Found\n",
            "Location: https://ucd64e45cb1a4e8281e322fa299c.dl.dropboxusercontent.com/cd/0/inline/CQ6i5Fe_2yfJZQtjOGyNrQT4vVZdxDubWF7TVJmIG2TDKvrGer8Ic2BKy_xn_Li0nf8IUtenoiPEBh3657TO5PHWLSQeG3MQ6xdBYDGn_FENWdqa3tNMhi-nRBkp4HbTmj01fWizR656LZFarQ6uADAT/file# [following]\n",
            "--2024-04-12 11:07:00--  https://ucd64e45cb1a4e8281e322fa299c.dl.dropboxusercontent.com/cd/0/inline/CQ6i5Fe_2yfJZQtjOGyNrQT4vVZdxDubWF7TVJmIG2TDKvrGer8Ic2BKy_xn_Li0nf8IUtenoiPEBh3657TO5PHWLSQeG3MQ6xdBYDGn_FENWdqa3tNMhi-nRBkp4HbTmj01fWizR656LZFarQ6uADAT/file\n",
            "Resolving ucd64e45cb1a4e8281e322fa299c.dl.dropboxusercontent.com (ucd64e45cb1a4e8281e322fa299c.dl.dropboxusercontent.com)... 162.125.1.15, 2620:100:6016:15::a27d:10f\n",
            "Connecting to ucd64e45cb1a4e8281e322fa299c.dl.dropboxusercontent.com (ucd64e45cb1a4e8281e322fa299c.dl.dropboxusercontent.com)|162.125.1.15|:443... connected.\n",
            "HTTP request sent, awaiting response... 200 OK\n",
            "Length: 37599 (37K) [text/plain]\n",
            "Saving to: ‘/HousingData.csv’\n",
            "\n",
            "/HousingData.csv    100%[===================>]  36.72K  --.-KB/s    in 0.007s  \n",
            "\n",
            "2024-04-12 11:07:00 (4.88 MB/s) - ‘/HousingData.csv’ saved [37599/37599]\n",
            "\n"
          ]
        }
      ]
    },
    {
      "cell_type": "markdown",
      "source": [
        "# Load and Explore"
      ],
      "metadata": {
        "id": "jBpa9AGHEtD7"
      }
    },
    {
      "cell_type": "markdown",
      "source": [
        "Load the dataset (as a dataframe) using pandas and display the top 5 rows of the dataframe and then check for missing values and impute missing values with mean"
      ],
      "metadata": {
        "id": "MFzJZLOxoZDJ"
      }
    },
    {
      "cell_type": "code",
      "source": [
        "file_path = '/HousingData.csv'\n",
        "\n",
        "data = pd.read_csv(file_path)\n",
        "print(data.head())\n",
        "\n",
        "data = data.fillna(data.mean())"
      ],
      "metadata": {
        "id": "lqhABVd2oZYV",
        "colab": {
          "base_uri": "https://localhost:8080/"
        },
        "outputId": "7e69caa5-51a4-4290-b281-549b9418092d"
      },
      "execution_count": 3,
      "outputs": [
        {
          "output_type": "stream",
          "name": "stdout",
          "text": [
            "      CRIM    ZN  INDUS  CHAS    NOX     RM   AGE     DIS  TAX  PTRATIO  \\\n",
            "0  0.00632  18.0   2.31   0.0  0.538  6.575  65.2  4.0900  296     15.3   \n",
            "1  0.02731   0.0   7.07   0.0  0.469  6.421  78.9  4.9671  242     17.8   \n",
            "2  0.02729   0.0   7.07   0.0  0.469  7.185  61.1  4.9671  242     17.8   \n",
            "3  0.03237   0.0   2.18   0.0  0.458  6.998  45.8  6.0622  222     18.7   \n",
            "4  0.06905   0.0   2.18   0.0  0.458  7.147  54.2  6.0622  222     18.7   \n",
            "\n",
            "        B      LSTAT  MEDV  \n",
            "0  396.90   4.980000  24.0  \n",
            "1  396.90   9.140000  21.6  \n",
            "2  392.83   4.030000  34.7  \n",
            "3  394.63   2.940000  33.4  \n",
            "4  396.90  12.715432  36.2  \n"
          ]
        }
      ]
    },
    {
      "cell_type": "markdown",
      "source": [
        "Get a brief description of the dataset"
      ],
      "metadata": {
        "id": "5-Py3iuJoZwi"
      }
    },
    {
      "cell_type": "code",
      "source": [
        "print(data.info())\n",
        "print(data.describe())"
      ],
      "metadata": {
        "id": "zThHHTAcoZ_h",
        "colab": {
          "base_uri": "https://localhost:8080/"
        },
        "outputId": "b4a68239-7a08-4bce-e700-fa3d1c6ef128"
      },
      "execution_count": 4,
      "outputs": [
        {
          "output_type": "stream",
          "name": "stdout",
          "text": [
            "<class 'pandas.core.frame.DataFrame'>\n",
            "RangeIndex: 506 entries, 0 to 505\n",
            "Data columns (total 13 columns):\n",
            " #   Column   Non-Null Count  Dtype  \n",
            "---  ------   --------------  -----  \n",
            " 0   CRIM     506 non-null    float64\n",
            " 1   ZN       506 non-null    float64\n",
            " 2   INDUS    506 non-null    float64\n",
            " 3   CHAS     506 non-null    float64\n",
            " 4   NOX      506 non-null    float64\n",
            " 5   RM       506 non-null    float64\n",
            " 6   AGE      506 non-null    float64\n",
            " 7   DIS      506 non-null    float64\n",
            " 8   TAX      506 non-null    int64  \n",
            " 9   PTRATIO  506 non-null    float64\n",
            " 10  B        506 non-null    float64\n",
            " 11  LSTAT    506 non-null    float64\n",
            " 12  MEDV     506 non-null    float64\n",
            "dtypes: float64(12), int64(1)\n",
            "memory usage: 51.5 KB\n",
            "None\n",
            "             CRIM          ZN       INDUS        CHAS         NOX          RM  \\\n",
            "count  506.000000  506.000000  506.000000  506.000000  506.000000  506.000000   \n",
            "mean     3.611874   11.211934   11.083992    0.069959    0.554695    6.284634   \n",
            "std      8.545770   22.921051    6.699165    0.250233    0.115878    0.702617   \n",
            "min      0.006320    0.000000    0.460000    0.000000    0.385000    3.561000   \n",
            "25%      0.083235    0.000000    5.190000    0.000000    0.449000    5.885500   \n",
            "50%      0.290250    0.000000    9.900000    0.000000    0.538000    6.208500   \n",
            "75%      3.611874   11.211934   18.100000    0.000000    0.624000    6.623500   \n",
            "max     88.976200  100.000000   27.740000    1.000000    0.871000    8.780000   \n",
            "\n",
            "              AGE         DIS         TAX     PTRATIO           B       LSTAT  \\\n",
            "count  506.000000  506.000000  506.000000  506.000000  506.000000  506.000000   \n",
            "mean    68.518519    3.795043  408.237154   18.455534  356.674032   12.715432   \n",
            "std     27.439466    2.105710  168.537116    2.164946   91.294864    7.012739   \n",
            "min      2.900000    1.129600  187.000000   12.600000    0.320000    1.730000   \n",
            "25%     45.925000    2.100175  279.000000   17.400000  375.377500    7.230000   \n",
            "50%     74.450000    3.207450  330.000000   19.050000  391.440000   11.995000   \n",
            "75%     93.575000    5.188425  666.000000   20.200000  396.225000   16.570000   \n",
            "max    100.000000   12.126500  711.000000   22.000000  396.900000   37.970000   \n",
            "\n",
            "             MEDV  \n",
            "count  506.000000  \n",
            "mean    22.532806  \n",
            "std      9.197104  \n",
            "min      5.000000  \n",
            "25%     17.025000  \n",
            "50%     21.200000  \n",
            "75%     25.000000  \n",
            "max     50.000000  \n"
          ]
        }
      ]
    },
    {
      "cell_type": "markdown",
      "source": [
        "Extract only the features from the dataframe by removing the target column and then Convert the new dataframe into a numpy array\n",
        "</br>\n",
        "Note: **Do not remove the previous dataframe.**\n"
      ],
      "metadata": {
        "id": "gHcKVT_4oabK"
      }
    },
    {
      "cell_type": "markdown",
      "source": [
        "# Preprocessing"
      ],
      "metadata": {
        "id": "VkDUEmURE-Sx"
      }
    },
    {
      "cell_type": "code",
      "source": [
        "X = data.drop('MEDV', axis=1).values\n",
        "\n",
        "print(type(X))\n",
        "print(X)"
      ],
      "metadata": {
        "id": "FtT8kFoBoajv",
        "colab": {
          "base_uri": "https://localhost:8080/"
        },
        "outputId": "6d6fba03-56e8-4931-f1f1-cabad1d5e9bd"
      },
      "execution_count": 5,
      "outputs": [
        {
          "output_type": "stream",
          "name": "stdout",
          "text": [
            "<class 'numpy.ndarray'>\n",
            "[[6.3200e-03 1.8000e+01 2.3100e+00 ... 1.5300e+01 3.9690e+02 4.9800e+00]\n",
            " [2.7310e-02 0.0000e+00 7.0700e+00 ... 1.7800e+01 3.9690e+02 9.1400e+00]\n",
            " [2.7290e-02 0.0000e+00 7.0700e+00 ... 1.7800e+01 3.9283e+02 4.0300e+00]\n",
            " ...\n",
            " [6.0760e-02 0.0000e+00 1.1930e+01 ... 2.1000e+01 3.9690e+02 5.6400e+00]\n",
            " [1.0959e-01 0.0000e+00 1.1930e+01 ... 2.1000e+01 3.9345e+02 6.4800e+00]\n",
            " [4.7410e-02 0.0000e+00 1.1930e+01 ... 2.1000e+01 3.9690e+02 7.8800e+00]]\n"
          ]
        }
      ]
    },
    {
      "cell_type": "markdown",
      "source": [],
      "metadata": {
        "id": "za7_Koy_UFVg"
      }
    },
    {
      "cell_type": "markdown",
      "source": [
        "look for outliers using box plot and if There are some outliers in data, use StandardScaler can help in scaling data."
      ],
      "metadata": {
        "id": "forjBjgQHDz0"
      }
    },
    {
      "cell_type": "code",
      "source": [
        "# sns.boxplot(data=pd.DataFrame(X)) # Before scaling\n",
        "scaler = StandardScaler()\n",
        "X_scaled = scaler.fit_transform(X)\n",
        "sns.boxplot(data=pd.DataFrame(X_scaled)) # After scaling"
      ],
      "metadata": {
        "id": "fJVP9gGnFHbM",
        "colab": {
          "base_uri": "https://localhost:8080/",
          "height": 447
        },
        "outputId": "f959574e-13a7-462f-dc8e-3c188f200347"
      },
      "execution_count": 6,
      "outputs": [
        {
          "output_type": "execute_result",
          "data": {
            "text/plain": [
              "<Axes: >"
            ]
          },
          "metadata": {},
          "execution_count": 6
        },
        {
          "output_type": "display_data",
          "data": {
            "text/plain": [
              "<Figure size 640x480 with 1 Axes>"
            ],
            "image/png": "[encoded data removed]"
          },
          "metadata": {}
        }
      ]
    },
    {
      "cell_type": "markdown",
      "source": [
        "add polynomial features to increase model complexity!\n",
        "\n"
      ],
      "metadata": {
        "id": "mLfX6ugX3fNM"
      }
    },
    {
      "cell_type": "code",
      "source": [
        "poly = PolynomialFeatures(degree=2)\n",
        "X_poly = poly.fit_transform(X_scaled)"
      ],
      "metadata": {
        "id": "rkEQ02jU3fXj"
      },
      "execution_count": 7,
      "outputs": []
    },
    {
      "cell_type": "markdown",
      "source": [
        "Extract the target column from the previously mentioned DataFrame and transform it into a new NumPy array, named y."
      ],
      "metadata": {
        "id": "8_TZ52zNoatM"
      }
    },
    {
      "cell_type": "code",
      "source": [
        "y = data['MEDV'].values\n",
        "\n",
        "print(type(y))\n",
        "print(y)"
      ],
      "metadata": {
        "id": "lzDxTUBFoa4I",
        "colab": {
          "base_uri": "https://localhost:8080/"
        },
        "outputId": "5d89cc2d-f3e0-4135-b054-6a528697bd9d"
      },
      "execution_count": 8,
      "outputs": [
        {
          "output_type": "stream",
          "name": "stdout",
          "text": [
            "<class 'numpy.ndarray'>\n",
            "[24.  21.6 34.7 33.4 36.2 28.7 22.9 27.1 16.5 18.9 15.  18.9 21.7 20.4\n",
            " 18.2 19.9 23.1 17.5 20.2 18.2 13.6 19.6 15.2 14.5 15.6 13.9 16.6 14.8\n",
            " 18.4 21.  12.7 14.5 13.2 13.1 13.5 18.9 20.  21.  24.7 30.8 34.9 26.6\n",
            " 25.3 24.7 21.2 19.3 20.  16.6 14.4 19.4 19.7 20.5 25.  23.4 18.9 35.4\n",
            " 24.7 31.6 23.3 19.6 18.7 16.  22.2 25.  33.  23.5 19.4 22.  17.4 20.9\n",
            " 24.2 21.7 22.8 23.4 24.1 21.4 20.  20.8 21.2 20.3 28.  23.9 24.8 22.9\n",
            " 23.9 26.6 22.5 22.2 23.6 28.7 22.6 22.  22.9 25.  20.6 28.4 21.4 38.7\n",
            " 43.8 33.2 27.5 26.5 18.6 19.3 20.1 19.5 19.5 20.4 19.8 19.4 21.7 22.8\n",
            " 18.8 18.7 18.5 18.3 21.2 19.2 20.4 19.3 22.  20.3 20.5 17.3 18.8 21.4\n",
            " 15.7 16.2 18.  14.3 19.2 19.6 23.  18.4 15.6 18.1 17.4 17.1 13.3 17.8\n",
            " 14.  14.4 13.4 15.6 11.8 13.8 15.6 14.6 17.8 15.4 21.5 19.6 15.3 19.4\n",
            " 17.  15.6 13.1 41.3 24.3 23.3 27.  50.  50.  50.  22.7 25.  50.  23.8\n",
            " 23.8 22.3 17.4 19.1 23.1 23.6 22.6 29.4 23.2 24.6 29.9 37.2 39.8 36.2\n",
            " 37.9 32.5 26.4 29.6 50.  32.  29.8 34.9 37.  30.5 36.4 31.1 29.1 50.\n",
            " 33.3 30.3 34.6 34.9 32.9 24.1 42.3 48.5 50.  22.6 24.4 22.5 24.4 20.\n",
            " 21.7 19.3 22.4 28.1 23.7 25.  23.3 28.7 21.5 23.  26.7 21.7 27.5 30.1\n",
            " 44.8 50.  37.6 31.6 46.7 31.5 24.3 31.7 41.7 48.3 29.  24.  25.1 31.5\n",
            " 23.7 23.3 22.  20.1 22.2 23.7 17.6 18.5 24.3 20.5 24.5 26.2 24.4 24.8\n",
            " 29.6 42.8 21.9 20.9 44.  50.  36.  30.1 33.8 43.1 48.8 31.  36.5 22.8\n",
            " 30.7 50.  43.5 20.7 21.1 25.2 24.4 35.2 32.4 32.  33.2 33.1 29.1 35.1\n",
            " 45.4 35.4 46.  50.  32.2 22.  20.1 23.2 22.3 24.8 28.5 37.3 27.9 23.9\n",
            " 21.7 28.6 27.1 20.3 22.5 29.  24.8 22.  26.4 33.1 36.1 28.4 33.4 28.2\n",
            " 22.8 20.3 16.1 22.1 19.4 21.6 23.8 16.2 17.8 19.8 23.1 21.  23.8 23.1\n",
            " 20.4 18.5 25.  24.6 23.  22.2 19.3 22.6 19.8 17.1 19.4 22.2 20.7 21.1\n",
            " 19.5 18.5 20.6 19.  18.7 32.7 16.5 23.9 31.2 17.5 17.2 23.1 24.5 26.6\n",
            " 22.9 24.1 18.6 30.1 18.2 20.6 17.8 21.7 22.7 22.6 25.  19.9 20.8 16.8\n",
            " 21.9 27.5 21.9 23.1 50.  50.  50.  50.  50.  13.8 13.8 15.  13.9 13.3\n",
            " 13.1 10.2 10.4 10.9 11.3 12.3  8.8  7.2 10.5  7.4 10.2 11.5 15.1 23.2\n",
            "  9.7 13.8 12.7 13.1 12.5  8.5  5.   6.3  5.6  7.2 12.1  8.3  8.5  5.\n",
            " 11.9 27.9 17.2 27.5 15.  17.2 17.9 16.3  7.   7.2  7.5 10.4  8.8  8.4\n",
            " 16.7 14.2 20.8 13.4 11.7  8.3 10.2 10.9 11.   9.5 14.5 14.1 16.1 14.3\n",
            " 11.7 13.4  9.6  8.7  8.4 12.8 10.5 17.1 18.4 15.4 10.8 11.8 14.9 12.6\n",
            " 14.1 13.  13.4 15.2 16.1 17.8 14.9 14.1 12.7 13.5 14.9 20.  16.4 17.7\n",
            " 19.5 20.2 21.4 19.9 19.  19.1 19.1 20.1 19.9 19.6 23.2 29.8 13.8 13.3\n",
            " 16.7 12.  14.6 21.4 23.  23.7 25.  21.8 20.6 21.2 19.1 20.6 15.2  7.\n",
            "  8.1 13.6 20.1 21.8 24.5 23.1 19.7 18.3 21.2 17.5 16.8 22.4 20.6 23.9\n",
            " 22.  11.9]\n"
          ]
        }
      ]
    },
    {
      "cell_type": "markdown",
      "source": [
        "\n",
        "\n",
        "Split the dataset into two parts such that the training set contains 80% of the samples."
      ],
      "metadata": {
        "id": "6zVgga7tobBP"
      }
    },
    {
      "cell_type": "code",
      "source": [
        "X_train, X_test, y_train, y_test = train_test_split(X_poly, y, test_size=0.2, random_state=42)"
      ],
      "metadata": {
        "id": "2LGiy-8LobKh"
      },
      "execution_count": 9,
      "outputs": []
    },
    {
      "cell_type": "markdown",
      "source": [
        "# Training"
      ],
      "metadata": {
        "id": "s-rejkt9FHTj"
      }
    },
    {
      "cell_type": "markdown",
      "source": [
        "\n",
        "Fit a linear regressor to the data. (Use sklearn)\n"
      ],
      "metadata": {
        "id": "_qoiRXLOv25z"
      }
    },
    {
      "cell_type": "code",
      "source": [
        "lr = LinearRegression()\n",
        "lr.fit(X_train, y_train)"
      ],
      "metadata": {
        "id": "jWvwdl-Iv3FF",
        "colab": {
          "base_uri": "https://localhost:8080/",
          "height": 74
        },
        "outputId": "2a2f5938-6941-4a55-ec2b-1baa2b7aab36"
      },
      "execution_count": 10,
      "outputs": [
        {
          "output_type": "execute_result",
          "data": {
            "text/plain": [
              "LinearRegression()"
            ],
            "text/html": [
              "<style>#sk-container-id-1 {color: black;background-color: white;}#sk-container-id-1 pre{padding: 0;}#sk-container-id-1 div.sk-toggleable {background-color: white;}#sk-container-id-1 label.sk-toggleable__label {cursor: pointer;display: block;width: 100%;margin-bottom: 0;padding: 0.3em;box-sizing: border-box;text-align: center;}#sk-container-id-1 label.sk-toggleable__label-arrow:before {content: \"▸\";float: left;margin-right: 0.25em;color: #696969;}#sk-container-id-1 label.sk-toggleable__label-arrow:hover:before {color: black;}#sk-container-id-1 div.sk-estimator:hover label.sk-toggleable__label-arrow:before {color: black;}#sk-container-id-1 div.sk-toggleable__content {max-height: 0;max-width: 0;overflow: hidden;text-align: left;background-color: #f0f8ff;}#sk-container-id-1 div.sk-toggleable__content pre {margin: 0.2em;color: black;border-radius: 0.25em;background-color: #f0f8ff;}#sk-container-id-1 input.sk-toggleable__control:checked~div.sk-toggleable__content {max-height: 200px;max-width: 100%;overflow: auto;}#sk-container-id-1 input.sk-toggleable__control:checked~label.sk-toggleable__label-arrow:before {content: \"▾\";}#sk-container-id-1 div.sk-estimator input.sk-toggleable__control:checked~label.sk-toggleable__label {background-color: #d4ebff;}#sk-container-id-1 div.sk-label input.sk-toggleable__control:checked~label.sk-toggleable__label {background-color: #d4ebff;}#sk-container-id-1 input.sk-hidden--visually {border: 0;clip: rect(1px 1px 1px 1px);clip: rect(1px, 1px, 1px, 1px);height: 1px;margin: -1px;overflow: hidden;padding: 0;position: absolute;width: 1px;}#sk-container-id-1 div.sk-estimator {font-family: monospace;background-color: #f0f8ff;border: 1px dotted black;border-radius: 0.25em;box-sizing: border-box;margin-bottom: 0.5em;}#sk-container-id-1 div.sk-estimator:hover {background-color: #d4ebff;}#sk-container-id-1 div.sk-parallel-item::after {content: \"\";width: 100%;border-bottom: 1px solid gray;flex-grow: 1;}#sk-container-id-1 div.sk-label:hover label.sk-toggleable__label {background-color: #d4ebff;}#sk-container-id-1 div.sk-serial::before {content: \"\";position: absolute;border-left: 1px solid gray;box-sizing: border-box;top: 0;bottom: 0;left: 50%;z-index: 0;}#sk-container-id-1 div.sk-serial {display: flex;flex-direction: column;align-items: center;background-color: white;padding-right: 0.2em;padding-left: 0.2em;position: relative;}#sk-container-id-1 div.sk-item {position: relative;z-index: 1;}#sk-container-id-1 div.sk-parallel {display: flex;align-items: stretch;justify-content: center;background-color: white;position: relative;}#sk-container-id-1 div.sk-item::before, #sk-container-id-1 div.sk-parallel-item::before {content: \"\";position: absolute;border-left: 1px solid gray;box-sizing: border-box;top: 0;bottom: 0;left: 50%;z-index: -1;}#sk-container-id-1 div.sk-parallel-item {display: flex;flex-direction: column;z-index: 1;position: relative;background-color: white;}#sk-container-id-1 div.sk-parallel-item:first-child::after {align-self: flex-end;width: 50%;}#sk-container-id-1 div.sk-parallel-item:last-child::after {align-self: flex-start;width: 50%;}#sk-container-id-1 div.sk-parallel-item:only-child::after {width: 0;}#sk-container-id-1 div.sk-dashed-wrapped {border: 1px dashed gray;margin: 0 0.4em 0.5em 0.4em;box-sizing: border-box;padding-bottom: 0.4em;background-color: white;}#sk-container-id-1 div.sk-label label {font-family: monospace;font-weight: bold;display: inline-block;line-height: 1.2em;}#sk-container-id-1 div.sk-label-container {text-align: center;}#sk-container-id-1 div.sk-container {/* jupyter's `normalize.less` sets `[hidden] { display: none; }` but bootstrap.min.css set `[hidden] { display: none !important; }` so we also need the `!important` here to be able to override the default hidden behavior on the sphinx rendered scikit-learn.org. See: https://github.com/scikit-learn/scikit-learn/issues/21755 */display: inline-block !important;position: relative;}#sk-container-id-1 div.sk-text-repr-fallback {display: none;}</style><div id=\"sk-container-id-1\" class=\"sk-top-container\"><div class=\"sk-text-repr-fallback\"><pre>LinearRegression()</pre><b>In a Jupyter environment, please rerun this cell to show the HTML representation or trust the notebook. <br />On GitHub, the HTML representation is unable to render, please try loading this page with nbviewer.org.</b></div><div class=\"sk-container\" hidden><div class=\"sk-item\"><div class=\"sk-estimator sk-toggleable\"><input class=\"sk-toggleable__control sk-hidden--visually\" id=\"sk-estimator-id-1\" type=\"checkbox\" checked><label for=\"sk-estimator-id-1\" class=\"sk-toggleable__label sk-toggleable__label-arrow\">LinearRegression</label><div class=\"sk-toggleable__content\"><pre>LinearRegression()</pre></div></div></div></div></div>"
            ]
          },
          "metadata": {},
          "execution_count": 10
        }
      ]
    },
    {
      "cell_type": "markdown",
      "source": [
        "Get the coefficients of the variables and visualize it"
      ],
      "metadata": {
        "id": "8ytvTJ60v3Oq"
      }
    },
    {
      "cell_type": "code",
      "source": [
        "coefficients = lr.coef_\n",
        "print(coefficients)\n",
        "plt.figure(figsize=(10, 5))\n",
        "plt.bar(range(len(coefficients)), coefficients, color='pink')\n",
        "plt.xlabel('Coefficient Index')\n",
        "plt.ylabel('Coefficient Value')\n",
        "plt.title('Comparison of Coefficients')\n",
        "plt.show()"
      ],
      "metadata": {
        "id": "Lh9C3xihv3X3",
        "colab": {
          "base_uri": "https://localhost:8080/",
          "height": 886
        },
        "outputId": "8c922f41-7e4b-4a1f-8c8c-f56350b8cb61"
      },
      "execution_count": 11,
      "outputs": [
        {
          "output_type": "stream",
          "name": "stdout",
          "text": [
            "[ 6.71326437e-15  2.61543210e+00  8.23937159e-01  2.71362629e-01\n",
            " -3.48211983e+00 -1.29409137e+00  3.44585661e+00 -1.21943076e+00\n",
            " -1.81707978e+00 -1.35705037e+00 -7.62724086e-01  9.41284776e-02\n",
            " -3.26790109e+00  1.88815533e-01 -2.12293611e+00  3.27201664e+00\n",
            "  2.99592944e+00 -2.33583776e+00  3.47631370e-01  2.08741825e-01\n",
            "  2.21883471e+00 -2.33322440e+00 -2.04447912e+00  7.41756805e-03\n",
            "  1.19322150e+00 -8.41126027e-02  1.01385910e-01  2.74709658e-01\n",
            " -2.78021092e+00 -1.52798130e-01  7.61588328e-01 -1.08630659e+00\n",
            "  2.97124880e+00 -2.68640233e-01 -3.02213841e+00 -1.60704564e+00\n",
            "  1.31321171e+00 -3.11014224e-01 -5.10197825e-01  1.28252455e+00\n",
            "  1.32809034e+00  1.38205448e+00 -6.50905063e-01 -1.06080996e+00\n",
            "  7.72225398e-01 -5.06351131e-01  1.37177961e+00 -1.08949576e+00\n",
            " -9.50138209e-01 -4.45437289e-01 -1.69626905e+00  5.47158139e-01\n",
            " -1.88581634e-01  6.91851939e-03 -4.71226094e-01 -3.79170284e-01\n",
            " -1.24093403e+00  3.76740641e-01  3.63408849e+00  1.95669949e+00\n",
            " -2.07628197e+00 -4.87583740e-01  5.33153600e-01  7.34804882e-01\n",
            " -4.76720613e-01  1.44799894e-01 -2.03085847e+00 -1.18219970e+00\n",
            " -4.62944660e-01  6.96661663e-01  6.21445264e-02  4.35302992e-01\n",
            " -6.72892447e-01  3.72240181e-01 -1.12519132e+00 -1.17650773e+00\n",
            "  2.24180978e+00 -2.15987726e+00 -5.33156830e-01  4.42541174e-01\n",
            "  7.40739848e-01 -1.18015450e-01  4.20887909e+00 -1.01095438e+00\n",
            " -2.48662060e+00 -4.86518994e-01  1.04890851e-01  7.61631914e-02\n",
            " -3.29742779e-01  1.63160538e-01  1.40255420e+00]\n"
          ]
        },
        {
          "output_type": "display_data",
          "data": {
            "text/plain": [
              "<Figure size 1000x500 with 1 Axes>"
            ],
            "image/png": "[encoded data removed]"
          },
          "metadata": {}
        }
      ]
    },
    {
      "cell_type": "markdown",
      "source": [
        "Get the score value of sklearn regressor on train dataset</br>\n",
        "if you are not familiar with R-squared concept see the link below:\n",
        "[R-squared](https://statisticsbyjim.com/regression/interpret-r-squared-regression/)\n",
        "\n"
      ],
      "metadata": {
        "id": "eTCcA4W8v3f4"
      }
    },
    {
      "cell_type": "code",
      "source": [
        "r2_train = r2_score(y_train, lr.predict(X_train))\n",
        "mse_train = mean_squared_error(y_train, lr.predict(X_train))\n",
        "print('R² score on the training dataset:', r2_train)\n",
        "print('MSE on the training dataset', mse_train)"
      ],
      "metadata": {
        "id": "onAXRIl7v3qJ",
        "colab": {
          "base_uri": "https://localhost:8080/"
        },
        "outputId": "6eb88ab8-9d6b-467e-e7ab-0cfdb63c05dc"
      },
      "execution_count": 12,
      "outputs": [
        {
          "output_type": "stream",
          "name": "stdout",
          "text": [
            "R² score on the training dataset: 0.9233615957926449\n",
            "MSE on the training dataset 6.65783903781899\n"
          ]
        }
      ]
    },
    {
      "cell_type": "markdown",
      "source": [
        "Predict the value of \"y\" for each \"x\" belonging to the \"testing\" set"
      ],
      "metadata": {
        "id": "RXBvLGMcwpbT"
      }
    },
    {
      "cell_type": "code",
      "source": [
        "y_pred = lr.predict(X_test)\n",
        "\n",
        "r2_test = r2_score(y_test, y_pred)\n",
        "mse_test = mean_squared_error(y_test, y_pred)"
      ],
      "metadata": {
        "id": "bA_DNqeKwprp"
      },
      "execution_count": 13,
      "outputs": []
    },
    {
      "cell_type": "markdown",
      "source": [
        "# Lasso Regularization(L1)"
      ],
      "metadata": {
        "id": "z_aF3pNEFP79"
      }
    },
    {
      "cell_type": "markdown",
      "source": [
        "L1 regularization, also known as Lasso (Least Absolute Shrinkage and Selection Operator) regularization, is a technique used in regression models that encourages simplicity and sparsity in the model coefficients. This is achieved by adding a penalty equal to the absolute value of the magnitude of coefficients to the loss function.\\\n",
        "</br>\n",
        "Train a regression model using L1 regularization."
      ],
      "metadata": {
        "id": "PPMTy_D_wp-X"
      }
    },
    {
      "cell_type": "code",
      "source": [
        "lasso = Lasso(alpha=0.5)\n",
        "lasso.fit(X_train, y_train)"
      ],
      "metadata": {
        "id": "SHr5JR4fwqHO",
        "colab": {
          "base_uri": "https://localhost:8080/",
          "height": 74
        },
        "outputId": "ddc44d49-ed65-4a4b-ef2a-2c03c2c47dac"
      },
      "execution_count": 14,
      "outputs": [
        {
          "output_type": "execute_result",
          "data": {
            "text/plain": [
              "Lasso(alpha=0.5)"
            ],
            "text/html": [
              "<style>#sk-container-id-2 {color: black;background-color: white;}#sk-container-id-2 pre{padding: 0;}#sk-container-id-2 div.sk-toggleable {background-color: white;}#sk-container-id-2 label.sk-toggleable__label {cursor: pointer;display: block;width: 100%;margin-bottom: 0;padding: 0.3em;box-sizing: border-box;text-align: center;}#sk-container-id-2 label.sk-toggleable__label-arrow:before {content: \"▸\";float: left;margin-right: 0.25em;color: #696969;}#sk-container-id-2 label.sk-toggleable__label-arrow:hover:before {color: black;}#sk-container-id-2 div.sk-estimator:hover label.sk-toggleable__label-arrow:before {color: black;}#sk-container-id-2 div.sk-toggleable__content {max-height: 0;max-width: 0;overflow: hidden;text-align: left;background-color: #f0f8ff;}#sk-container-id-2 div.sk-toggleable__content pre {margin: 0.2em;color: black;border-radius: 0.25em;background-color: #f0f8ff;}#sk-container-id-2 input.sk-toggleable__control:checked~div.sk-toggleable__content {max-height: 200px;max-width: 100%;overflow: auto;}#sk-container-id-2 input.sk-toggleable__control:checked~label.sk-toggleable__label-arrow:before {content: \"▾\";}#sk-container-id-2 div.sk-estimator input.sk-toggleable__control:checked~label.sk-toggleable__label {background-color: #d4ebff;}#sk-container-id-2 div.sk-label input.sk-toggleable__control:checked~label.sk-toggleable__label {background-color: #d4ebff;}#sk-container-id-2 input.sk-hidden--visually {border: 0;clip: rect(1px 1px 1px 1px);clip: rect(1px, 1px, 1px, 1px);height: 1px;margin: -1px;overflow: hidden;padding: 0;position: absolute;width: 1px;}#sk-container-id-2 div.sk-estimator {font-family: monospace;background-color: #f0f8ff;border: 1px dotted black;border-radius: 0.25em;box-sizing: border-box;margin-bottom: 0.5em;}#sk-container-id-2 div.sk-estimator:hover {background-color: #d4ebff;}#sk-container-id-2 div.sk-parallel-item::after {content: \"\";width: 100%;border-bottom: 1px solid gray;flex-grow: 1;}#sk-container-id-2 div.sk-label:hover label.sk-toggleable__label {background-color: #d4ebff;}#sk-container-id-2 div.sk-serial::before {content: \"\";position: absolute;border-left: 1px solid gray;box-sizing: border-box;top: 0;bottom: 0;left: 50%;z-index: 0;}#sk-container-id-2 div.sk-serial {display: flex;flex-direction: column;align-items: center;background-color: white;padding-right: 0.2em;padding-left: 0.2em;position: relative;}#sk-container-id-2 div.sk-item {position: relative;z-index: 1;}#sk-container-id-2 div.sk-parallel {display: flex;align-items: stretch;justify-content: center;background-color: white;position: relative;}#sk-container-id-2 div.sk-item::before, #sk-container-id-2 div.sk-parallel-item::before {content: \"\";position: absolute;border-left: 1px solid gray;box-sizing: border-box;top: 0;bottom: 0;left: 50%;z-index: -1;}#sk-container-id-2 div.sk-parallel-item {display: flex;flex-direction: column;z-index: 1;position: relative;background-color: white;}#sk-container-id-2 div.sk-parallel-item:first-child::after {align-self: flex-end;width: 50%;}#sk-container-id-2 div.sk-parallel-item:last-child::after {align-self: flex-start;width: 50%;}#sk-container-id-2 div.sk-parallel-item:only-child::after {width: 0;}#sk-container-id-2 div.sk-dashed-wrapped {border: 1px dashed gray;margin: 0 0.4em 0.5em 0.4em;box-sizing: border-box;padding-bottom: 0.4em;background-color: white;}#sk-container-id-2 div.sk-label label {font-family: monospace;font-weight: bold;display: inline-block;line-height: 1.2em;}#sk-container-id-2 div.sk-label-container {text-align: center;}#sk-container-id-2 div.sk-container {/* jupyter's `normalize.less` sets `[hidden] { display: none; }` but bootstrap.min.css set `[hidden] { display: none !important; }` so we also need the `!important` here to be able to override the default hidden behavior on the sphinx rendered scikit-learn.org. See: https://github.com/scikit-learn/scikit-learn/issues/21755 */display: inline-block !important;position: relative;}#sk-container-id-2 div.sk-text-repr-fallback {display: none;}</style><div id=\"sk-container-id-2\" class=\"sk-top-container\"><div class=\"sk-text-repr-fallback\"><pre>Lasso(alpha=0.5)</pre><b>In a Jupyter environment, please rerun this cell to show the HTML representation or trust the notebook. <br />On GitHub, the HTML representation is unable to render, please try loading this page with nbviewer.org.</b></div><div class=\"sk-container\" hidden><div class=\"sk-item\"><div class=\"sk-estimator sk-toggleable\"><input class=\"sk-toggleable__control sk-hidden--visually\" id=\"sk-estimator-id-2\" type=\"checkbox\" checked><label for=\"sk-estimator-id-2\" class=\"sk-toggleable__label sk-toggleable__label-arrow\">Lasso</label><div class=\"sk-toggleable__content\"><pre>Lasso(alpha=0.5)</pre></div></div></div></div></div>"
            ]
          },
          "metadata": {},
          "execution_count": 14
        }
      ]
    },
    {
      "cell_type": "markdown",
      "source": [
        "Get the coefficients of the variables and visualize it."
      ],
      "metadata": {
        "id": "du892nvjwqPi"
      }
    },
    {
      "cell_type": "code",
      "source": [
        "lasso_coefficients = lasso.coef_\n",
        "print(lasso_coefficients)\n",
        "plt.figure(figsize=(10, 5))\n",
        "plt.bar(range(len(lasso_coefficients)), lasso_coefficients, color='blue')\n",
        "plt.xlabel('Coefficient Index')\n",
        "plt.ylabel('Coefficient Value')\n",
        "plt.title('Comparison of Coefficients')\n",
        "plt.show()"
      ],
      "metadata": {
        "id": "W-yiCdq1wqcn",
        "colab": {
          "base_uri": "https://localhost:8080/",
          "height": 765
        },
        "outputId": "73e701f8-2031-4227-ff74-d76916e3103b"
      },
      "execution_count": 15,
      "outputs": [
        {
          "output_type": "stream",
          "name": "stdout",
          "text": [
            "[ 0.         -0.          0.         -0.          0.         -0.\n",
            "  2.71044561 -0.         -0.         -0.17551806 -0.87919831  0.\n",
            " -3.61571562 -0.09172222  0.         -0.          0.         -0.\n",
            "  0.         -0.          0.         -0.         -0.         -0.\n",
            " -0.          0.          0.          0.          0.          0.\n",
            " -0.         -0.          0.          0.         -0.         -0.\n",
            "  0.          0.         -0.         -0.          0.          0.\n",
            "  0.         -0.          0.         -0.          0.21657471 -0.\n",
            " -0.          0.         -0.          0.09712834  0.          0.\n",
            " -0.         -0.20798319 -0.1485112  -0.          0.         -0.\n",
            " -0.          0.         -0.          0.7562266  -0.          0.\n",
            " -0.85199921 -0.59720675  0.         -0.          0.          0.\n",
            " -0.         -0.         -0.         -0.         -0.          0.\n",
            "  0.         -0.          0.26961623  0.          0.         -0.\n",
            " -0.8353172   0.         -0.         -0.         -0.24304235 -0.\n",
            "  0.46962857]\n"
          ]
        },
        {
          "output_type": "display_data",
          "data": {
            "text/plain": [
              "<Figure size 1000x500 with 1 Axes>"
            ],
            "image/png": "[encoded data removed]"
          },
          "metadata": {}
        }
      ]
    },
    {
      "cell_type": "markdown",
      "source": [
        "1- What observations can you make about the weight distribution when applying L1 regularization?\n",
        "\n",
        "2- How do different values of the regularization parameter (alpha) affect the sparsity of the model coefficients?"
      ],
      "metadata": {
        "id": "mI3QuD8Wydqc"
      }
    },
    {
      "cell_type": "markdown",
      "source": [
        "1. The sparsity the coefficients has increased. This means that Lasso regularization has reduced many coefficients to zero. So some of the features has been removed from the model. The zeroing out of some coefficients is kind of automatic feature selection. The coefficients that remain non-zero have smaller absolute values compared to the unregularized model.\n",
        "\n",
        "2. Increasing the alph will increase the penalty on the coefficients, leads to more coefficients being zero. When alpha increases, the model becomes more sparse, this can lead to underfitting the model. Decreasing alpha reduces the power of the regularization. If alpha is too small, the regularization might not be effective enough to prevent overfitting or to produce a good sparse model. There's an optimal range for alpha that has the best trade-off between bias and variance.\n"
      ],
      "metadata": {
        "id": "RREHXw6dydzd"
      }
    },
    {
      "cell_type": "markdown",
      "source": [
        "Get the score value on train *dataset*\n"
      ],
      "metadata": {
        "id": "VWHqbCktz2OD"
      }
    },
    {
      "cell_type": "code",
      "source": [
        "r2_train_lasso = r2_score(y_train, lasso.predict(X_train))\n",
        "mse_train_lasso = mean_squared_error(y_train, lasso.predict(X_train))\n",
        "print('R² score on the training dataset:', r2_train_lasso)\n",
        "print('MSE on the training dataset', mse_train_lasso)"
      ],
      "metadata": {
        "id": "RbHNlgfTz2WI",
        "colab": {
          "base_uri": "https://localhost:8080/"
        },
        "outputId": "09ecaf0d-8d04-46c7-87f1-c737b2d8dd23"
      },
      "execution_count": 16,
      "outputs": [
        {
          "output_type": "stream",
          "name": "stdout",
          "text": [
            "R² score on the training dataset: 0.8171286694481938\n",
            "MSE on the training dataset 15.88665494849732\n"
          ]
        }
      ]
    },
    {
      "cell_type": "markdown",
      "source": [
        "Predict the value of \"y\" for each \"x\" belonging to the \"testing\" set"
      ],
      "metadata": {
        "id": "hjI1nMXVz2f2"
      }
    },
    {
      "cell_type": "code",
      "source": [
        "y_pred_lasso = lasso.predict(X_test)\n",
        "\n",
        "r2_test_lasso = r2_score(y_test, y_pred_lasso)\n",
        "mse_test_lasso = mean_squared_error(y_test, y_pred_lasso)"
      ],
      "metadata": {
        "id": "KfOWH0oQz2mY"
      },
      "execution_count": 17,
      "outputs": []
    },
    {
      "cell_type": "markdown",
      "source": [
        "# Ridge Regularization(L2)"
      ],
      "metadata": {
        "id": "XHpNCGELFZsu"
      }
    },
    {
      "cell_type": "markdown",
      "source": [
        "L2 regularization, also known as Ridge regularization, is a technique used in regression models to prevent overfitting by adding a penalty equivalent to the square of the magnitude of coefficients to the loss function.\n",
        "</br>\n",
        "Train a regression model using L2 regularization."
      ],
      "metadata": {
        "id": "qsVvbx5vy3LP"
      }
    },
    {
      "cell_type": "code",
      "source": [
        "ridge = Ridge(alpha=10)\n",
        "ridge.fit(X_train, y_train)"
      ],
      "metadata": {
        "id": "ww93tqpWwq99",
        "colab": {
          "base_uri": "https://localhost:8080/",
          "height": 74
        },
        "outputId": "1f492012-6c2d-45e9-a230-0c4b0801aa81"
      },
      "execution_count": 18,
      "outputs": [
        {
          "output_type": "execute_result",
          "data": {
            "text/plain": [
              "Ridge(alpha=10)"
            ],
            "text/html": [
              "<style>#sk-container-id-3 {color: black;background-color: white;}#sk-container-id-3 pre{padding: 0;}#sk-container-id-3 div.sk-toggleable {background-color: white;}#sk-container-id-3 label.sk-toggleable__label {cursor: pointer;display: block;width: 100%;margin-bottom: 0;padding: 0.3em;box-sizing: border-box;text-align: center;}#sk-container-id-3 label.sk-toggleable__label-arrow:before {content: \"▸\";float: left;margin-right: 0.25em;color: #696969;}#sk-container-id-3 label.sk-toggleable__label-arrow:hover:before {color: black;}#sk-container-id-3 div.sk-estimator:hover label.sk-toggleable__label-arrow:before {color: black;}#sk-container-id-3 div.sk-toggleable__content {max-height: 0;max-width: 0;overflow: hidden;text-align: left;background-color: #f0f8ff;}#sk-container-id-3 div.sk-toggleable__content pre {margin: 0.2em;color: black;border-radius: 0.25em;background-color: #f0f8ff;}#sk-container-id-3 input.sk-toggleable__control:checked~div.sk-toggleable__content {max-height: 200px;max-width: 100%;overflow: auto;}#sk-container-id-3 input.sk-toggleable__control:checked~label.sk-toggleable__label-arrow:before {content: \"▾\";}#sk-container-id-3 div.sk-estimator input.sk-toggleable__control:checked~label.sk-toggleable__label {background-color: #d4ebff;}#sk-container-id-3 div.sk-label input.sk-toggleable__control:checked~label.sk-toggleable__label {background-color: #d4ebff;}#sk-container-id-3 input.sk-hidden--visually {border: 0;clip: rect(1px 1px 1px 1px);clip: rect(1px, 1px, 1px, 1px);height: 1px;margin: -1px;overflow: hidden;padding: 0;position: absolute;width: 1px;}#sk-container-id-3 div.sk-estimator {font-family: monospace;background-color: #f0f8ff;border: 1px dotted black;border-radius: 0.25em;box-sizing: border-box;margin-bottom: 0.5em;}#sk-container-id-3 div.sk-estimator:hover {background-color: #d4ebff;}#sk-container-id-3 div.sk-parallel-item::after {content: \"\";width: 100%;border-bottom: 1px solid gray;flex-grow: 1;}#sk-container-id-3 div.sk-label:hover label.sk-toggleable__label {background-color: #d4ebff;}#sk-container-id-3 div.sk-serial::before {content: \"\";position: absolute;border-left: 1px solid gray;box-sizing: border-box;top: 0;bottom: 0;left: 50%;z-index: 0;}#sk-container-id-3 div.sk-serial {display: flex;flex-direction: column;align-items: center;background-color: white;padding-right: 0.2em;padding-left: 0.2em;position: relative;}#sk-container-id-3 div.sk-item {position: relative;z-index: 1;}#sk-container-id-3 div.sk-parallel {display: flex;align-items: stretch;justify-content: center;background-color: white;position: relative;}#sk-container-id-3 div.sk-item::before, #sk-container-id-3 div.sk-parallel-item::before {content: \"\";position: absolute;border-left: 1px solid gray;box-sizing: border-box;top: 0;bottom: 0;left: 50%;z-index: -1;}#sk-container-id-3 div.sk-parallel-item {display: flex;flex-direction: column;z-index: 1;position: relative;background-color: white;}#sk-container-id-3 div.sk-parallel-item:first-child::after {align-self: flex-end;width: 50%;}#sk-container-id-3 div.sk-parallel-item:last-child::after {align-self: flex-start;width: 50%;}#sk-container-id-3 div.sk-parallel-item:only-child::after {width: 0;}#sk-container-id-3 div.sk-dashed-wrapped {border: 1px dashed gray;margin: 0 0.4em 0.5em 0.4em;box-sizing: border-box;padding-bottom: 0.4em;background-color: white;}#sk-container-id-3 div.sk-label label {font-family: monospace;font-weight: bold;display: inline-block;line-height: 1.2em;}#sk-container-id-3 div.sk-label-container {text-align: center;}#sk-container-id-3 div.sk-container {/* jupyter's `normalize.less` sets `[hidden] { display: none; }` but bootstrap.min.css set `[hidden] { display: none !important; }` so we also need the `!important` here to be able to override the default hidden behavior on the sphinx rendered scikit-learn.org. See: https://github.com/scikit-learn/scikit-learn/issues/21755 */display: inline-block !important;position: relative;}#sk-container-id-3 div.sk-text-repr-fallback {display: none;}</style><div id=\"sk-container-id-3\" class=\"sk-top-container\"><div class=\"sk-text-repr-fallback\"><pre>Ridge(alpha=10)</pre><b>In a Jupyter environment, please rerun this cell to show the HTML representation or trust the notebook. <br />On GitHub, the HTML representation is unable to render, please try loading this page with nbviewer.org.</b></div><div class=\"sk-container\" hidden><div class=\"sk-item\"><div class=\"sk-estimator sk-toggleable\"><input class=\"sk-toggleable__control sk-hidden--visually\" id=\"sk-estimator-id-3\" type=\"checkbox\" checked><label for=\"sk-estimator-id-3\" class=\"sk-toggleable__label sk-toggleable__label-arrow\">Ridge</label><div class=\"sk-toggleable__content\"><pre>Ridge(alpha=10)</pre></div></div></div></div></div>"
            ]
          },
          "metadata": {},
          "execution_count": 18
        }
      ]
    },
    {
      "cell_type": "markdown",
      "source": [
        "Get the coefficients of the variables and visualize it."
      ],
      "metadata": {
        "id": "EwXQdOdQ0c4y"
      }
    },
    {
      "cell_type": "code",
      "source": [
        "ridge_coefficients = ridge.coef_\n",
        "print(ridge_coefficients)\n",
        "plt.figure(figsize=(10, 5))\n",
        "plt.bar(range(len(ridge_coefficients)), ridge_coefficients, color='yellow')\n",
        "plt.xlabel('Coefficient Index')\n",
        "plt.ylabel('Coefficient Value')\n",
        "plt.title('Comparison of Coefficients')\n",
        "plt.show()"
      ],
      "metadata": {
        "id": "CmVqcA6r0dEe",
        "colab": {
          "base_uri": "https://localhost:8080/",
          "height": 765
        },
        "outputId": "a6743cdd-5ef1-407b-b00e-28dc95c66e28"
      },
      "execution_count": 19,
      "outputs": [
        {
          "output_type": "stream",
          "name": "stdout",
          "text": [
            "[ 0.          0.05912156  0.51116396 -0.28467561 -0.32455353 -0.85827735\n",
            "  3.30888276 -1.15903729 -1.59593251 -0.53180157 -0.91042787  0.42828162\n",
            " -2.94077889  0.16087076 -0.2517118   0.62754054  1.60530016 -1.09008989\n",
            "  0.19857273 -0.21466179  0.91315274 -0.33329639 -0.37069977 -0.0685445\n",
            "  0.53227529  0.13451302  0.04174477  0.21402759 -0.19753069 -0.13818418\n",
            "  0.11128147 -0.41118718  0.69356948 -0.05349153 -0.33153368 -0.6523907\n",
            "  0.65774546  0.00626011  0.17510478  0.56882038  0.84405893  0.75253857\n",
            " -0.01735362 -0.74138428  0.38541275 -0.84892644  0.44774634 -0.95605317\n",
            " -0.87633987 -0.11780543 -0.84245313  0.77371237 -0.05986682 -0.05282303\n",
            " -0.5612907  -0.35054369 -1.10824908 -0.28920456  0.95796985  0.161939\n",
            " -0.72743981 -0.23024552  0.59678367  0.61007814 -0.35547651  0.25507285\n",
            " -1.39082276 -1.30777268 -0.34506817  0.43935663  0.18768566  0.33640313\n",
            "  0.12071674  0.17082987 -0.88889616 -0.93434533  1.1011708  -0.55229718\n",
            " -0.01954442 -0.25679014  0.78714857  0.62433033  1.95275298 -0.76210143\n",
            " -1.82196645 -0.39640046  0.20411156 -0.0280015  -0.3462849   0.03535942\n",
            "  1.27443078]\n"
          ]
        },
        {
          "output_type": "display_data",
          "data": {
            "text/plain": [
              "<Figure size 1000x500 with 1 Axes>"
            ],
            "image/png": "[encoded data removed]"
          },
          "metadata": {}
        }
      ]
    },
    {
      "cell_type": "markdown",
      "source": [
        "Compare the effect on coefficients between L1 and L2 regularization. What are the key differences?\n",
        "\n",
        " How does the regularization parameter influence the magnitude of the coefficients in Ridge Regression?"
      ],
      "metadata": {
        "id": "uc_LYcVZ0dOQ"
      }
    },
    {
      "cell_type": "markdown",
      "source": [
        "1. L1 regularization has more sparsity in the coefficients, which means some coefficients become zero. But not the same thing in L2 regularization, where coefficients can be very small but not zero. Both L1 and L2 regularizations decrease the coefficients, but L2 regularization does it more evenly among the features. L1 regularization can be used for feature selection because it can zero out some coefficients. L2 regularization is more about feature weighting, assigning a small weight to less important features but still keeping them in the model.\n",
        "\n",
        "2. Unlike L1, the Ridge regularization decrease the magnitude of the coefficients more uniformly and does not zero out coefficients. However, it will still reduce the magnitude of the coefficients with larger alphas, which in turn reduces the model's sensitivity to changes in the variables. Increasing alpha in Ridge regression increases the penalty on the coefficients magnitude. This means that as alpha gets larger, the coefficients are pushed closer to zero, which decreases the model's complexity. Too big alpha can lead to bias in the model. Decreasing alpha reduces the impact of the regularization, thus the coefficients be larger. When alpha is too low, model may overfit the training data."
      ],
      "metadata": {
        "id": "vz3VZj1H1E5D"
      }
    },
    {
      "cell_type": "markdown",
      "source": [
        "Get the score value on train *dataset*"
      ],
      "metadata": {
        "id": "8-vwV52g1KaB"
      }
    },
    {
      "cell_type": "code",
      "source": [
        "r2_train_ridge = r2_score(y_train, ridge.predict(X_train))\n",
        "mse_train_ridge = mean_squared_error(y_train, ridge.predict(X_train))\n",
        "print('R² score on the training dataset:', r2_train_ridge)\n",
        "print('MSE on the training dataset', mse_train_ridge)"
      ],
      "metadata": {
        "id": "WgrPqaBF0dlc",
        "colab": {
          "base_uri": "https://localhost:8080/"
        },
        "outputId": "362c8bc8-2bf3-4c92-b0bb-b964487ae67a"
      },
      "execution_count": 20,
      "outputs": [
        {
          "output_type": "stream",
          "name": "stdout",
          "text": [
            "R² score on the training dataset: 0.9143940529441623\n",
            "MSE on the training dataset 7.4368800090845655\n"
          ]
        }
      ]
    },
    {
      "cell_type": "markdown",
      "source": [
        "Predict the value of \"y\" for each \"x\" belonging to the \"testing\" set\n",
        "\n"
      ],
      "metadata": {
        "id": "94nftWCR0dtC"
      }
    },
    {
      "cell_type": "code",
      "source": [
        "y_pred_ridge = ridge.predict(X_test)\n",
        "\n",
        "r2_test_ridge = r2_score(y_test, y_pred_ridge)\n",
        "mse_test_ridge = mean_squared_error(y_test, y_pred_ridge)"
      ],
      "metadata": {
        "id": "ivsbD08X0d1E"
      },
      "execution_count": 21,
      "outputs": []
    },
    {
      "cell_type": "markdown",
      "source": [
        "# Summarization"
      ],
      "metadata": {
        "id": "u6iKDyiwF-2q"
      }
    },
    {
      "cell_type": "markdown",
      "source": [
        "Summarize the performance metrics (e.g., RMSE, R² score) of the basic regression model, Lasso regression, and Ridge regression in a table for easy comparison.(On both test and train data)</br>\n",
        "if you are not familiar with R-squared concept see the link below:\n",
        "[R-squared](https://statisticsbyjim.com/regression/interpret-r-squared-regression/)\n"
      ],
      "metadata": {
        "id": "gY7NOCfB0d9K"
      }
    },
    {
      "cell_type": "code",
      "source": [
        "performance_summary = pd.DataFrame({\n",
        "    'Model': ['Basic Regression', 'Lasso Regression', 'Ridge Regression'],\n",
        "    'MSE (Test)': [mse_test, mse_test_lasso, mse_test_ridge],\n",
        "    'MSE (Train)': [mse_train, mse_train_lasso, mse_train_ridge],\n",
        "    'R² Score (Test)': [r2_test, r2_test_lasso, r2_test_ridge],\n",
        "    'R² Score (Train)': [r2_train, r2_train_lasso, r2_train_ridge]\n",
        "})\n",
        "\n",
        "print(performance_summary)"
      ],
      "metadata": {
        "id": "3gI-6r2r0eEx",
        "colab": {
          "base_uri": "https://localhost:8080/"
        },
        "outputId": "6c839288-0f39-4bc6-9d30-7560a8146958"
      },
      "execution_count": 22,
      "outputs": [
        {
          "output_type": "stream",
          "name": "stdout",
          "text": [
            "              Model  MSE (Test)  MSE (Train)  R² Score (Test)  \\\n",
            "0  Basic Regression   18.122077     6.657839         0.752882   \n",
            "1  Lasso Regression   16.227427    15.886655         0.778718   \n",
            "2  Ridge Regression   15.110037     7.436880         0.793955   \n",
            "\n",
            "   R² Score (Train)  \n",
            "0          0.923362  \n",
            "1          0.817129  \n",
            "2          0.914394  \n"
          ]
        }
      ]
    },
    {
      "cell_type": "markdown",
      "source": [
        " *Which model performed best on the test data?</br>\n",
        "Why the results on train data are different? </br>\n",
        "Discuss why this might be the case.*"
      ],
      "metadata": {
        "id": "dB2x-l231Soo"
      }
    },
    {
      "cell_type": "markdown",
      "source": [
        "Ridge regression performed best on the test data. The basic regression is overfitting the training data, which leads to great training performance but bad test performance. Lasso and Ridge  prevent overfitting by penalizing the size of the coefficients, leading to models that generalize better but have higher MSE on the training data because of regularization term. So basic regression is doing great on training data because it is overfiting to the data.    "
      ],
      "metadata": {
        "id": "dRIs24F91SsH"
      }
    }
  ]
}