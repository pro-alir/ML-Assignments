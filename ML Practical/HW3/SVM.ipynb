{
  "cells": [
    {
      "cell_type": "markdown",
      "metadata": {
        "id": "wuSmRC7FqgCh"
      },
      "source": [
        "<img src=\"./sharif.png\" alt=\"SUT logo\" width=300 height=300 align=left class=\"saturate\">\n",
        "\n",
        "<br>\n",
        "<font>\n",
        "<div dir=ltr align=center>\n",
        "<font color=0F5298 size=7>\n",
        "    Machine Learning <br>\n",
        "<font color=2565AE size=5>\n",
        "    Computer Engineering Department <br>\n",
        "    Spring 2024<br>\n",
        "<font color=3C99D size=5>\n",
        "    Practical Assignment 3<br>\n",
        "<font color=696880 size=4>\n",
        "    Ashkan Majidi - Shayan Salehi - Amirhossein Alamdar\n",
        "\n",
        "____"
      ]
    },
    {
      "cell_type": "markdown",
      "metadata": {
        "id": "XKfQoJdxqgCj"
      },
      "source": [
        "# Personal Data"
      ]
    },
    {
      "cell_type": "code",
      "execution_count": 82,
      "metadata": {
        "id": "b6ui9BxsqgCk"
      },
      "outputs": [],
      "source": [
        "student_number = ''\n",
        "first_name = 'Ali'\n",
        "last_name = 'Rahimi'"
      ]
    },
    {
      "cell_type": "markdown",
      "metadata": {
        "id": "dr1WA0dTqgCl"
      },
      "source": [
        "# Introduction\n",
        "\n",
        "In this assignment, you will implement SVM (Support Vector Machines) for classification.\n"
      ]
    },
    {
      "cell_type": "markdown",
      "metadata": {
        "id": "lzA-joI_qgCl"
      },
      "source": [
        "# Data Prepfocessing"
      ]
    },
    {
      "cell_type": "markdown",
      "metadata": {
        "id": "y5pCNPo-qgCl"
      },
      "source": [
        "Import your needed libraries in following cell."
      ]
    },
    {
      "cell_type": "code",
      "execution_count": 83,
      "metadata": {
        "id": "G_zDKIzUqgCl"
      },
      "outputs": [],
      "source": [
        "import numpy as np\n",
        "import pandas as pd\n",
        "from sklearn.datasets import fetch_openml\n",
        "from sklearn.model_selection import train_test_split\n",
        "from sklearn.preprocessing import StandardScaler\n",
        "from cvxopt import matrix, solvers\n",
        "from sklearn.metrics import accuracy_score, balanced_accuracy_score, confusion_matrix\n",
        "import seaborn as sns\n",
        "import matplotlib.pyplot as plt\n",
        "from sklearn.svm import SVC\n",
        "from sklearn.model_selection import GridSearchCV\n",
        "from sklearn.metrics import classification_report, accuracy_score"
      ]
    },
    {
      "cell_type": "markdown",
      "metadata": {
        "id": "uNRf3BbTqgCm"
      },
      "source": [
        "Load data from ```satimage``` dataset and split data to features and labels. The ```label``` column is our target variable."
      ]
    },
    {
      "cell_type": "code",
      "execution_count": 84,
      "metadata": {
        "colab": {
          "base_uri": "https://localhost:8080/"
        },
        "id": "uKcR1uamqgCm",
        "outputId": "e5f6848b-b297-4750-cdd7-d3e366cba028"
      },
      "outputs": [
        {
          "name": "stdout",
          "output_type": "stream",
          "text": [
            "Mounted at /content/gdrive/\n"
          ]
        }
      ],
      "source": [
        "from google.colab import drive\n",
        "drive.mount('/content/gdrive/', force_remount=True)\n",
        "%cp /content/gdrive/MyDrive/ML/HW3/HW3/practical/Data/satimage.csv /content/\n",
        "df = pd.read_csv('satimage.csv')\n",
        "# df.head(5)\n",
        "\n",
        "X = df.iloc[:, :-1].values\n",
        "y = df.iloc[:, -1].values\n",
        "\n",
        "# print(X)\n",
        "# print(y)"
      ]
    },
    {
      "cell_type": "markdown",
      "metadata": {
        "id": "uIjq5wIsqgCm"
      },
      "source": [
        "Now split data to train, validation and test parts. 60% of data should be used for train, 15% for validation and 25% for test. After that scale the data to Standard Normal Distribution using ```StandardScaler``` class from ```scikit-learn``` library."
      ]
    },
    {
      "cell_type": "code",
      "execution_count": 85,
      "metadata": {
        "id": "B_C9frq0qgCm"
      },
      "outputs": [],
      "source": [
        "x_train_non_binary, x_val_test, y_train_non_binary, y_val_test = train_test_split(X, y, test_size=0.40, random_state=40)\n",
        "x_val_non_binary, x_test_non_binary, y_val_non_binary, y_test_non_binary = train_test_split(x_val_test, y_val_test, test_size=5/8, random_state=40)\n",
        "\n",
        "scaler = StandardScaler()\n",
        "x_train_non_binary = scaler.fit_transform(x_train_non_binary)\n",
        "x_val_non_binary = scaler.transform(x_val_non_binary)\n",
        "x_test_non_binary = scaler.transform(x_test_non_binary)\n",
        "x_val_test = scaler.transform(x_val_test)"
      ]
    },
    {
      "cell_type": "markdown",
      "metadata": {
        "id": "y-YUtvSUqgCn"
      },
      "source": [
        "We want to train Binary SVM model for classification between labels 4 and 6. Choose corresponding datas and convert their lables to 1 and -1 respectively for 4 and 6."
      ]
    },
    {
      "cell_type": "code",
      "execution_count": 86,
      "metadata": {
        "id": "X2DDZV5PqgCn"
      },
      "outputs": [],
      "source": [
        "binary_train_mask = (y_train_non_binary == 4) | (y_train_non_binary == 6)\n",
        "x_train = x_train_non_binary[binary_train_mask]\n",
        "y_train = np.where(y_train_non_binary[binary_train_mask] == 6, 1, -1)\n",
        "\n",
        "binary_val_mask = (y_val_non_binary == 4) | (y_val_non_binary == 6)\n",
        "x_val = x_val_non_binary[binary_val_mask]\n",
        "y_val = np.where(y_val_non_binary[binary_val_mask] == 6, 1, -1)\n",
        "\n",
        "binary_test_mask = (y_test_non_binary == 4) | (y_test_non_binary == 6)\n",
        "x_test = x_test_non_binary[binary_test_mask]\n",
        "y_test = np.where(y_test_non_binary[binary_test_mask] == 6, 1, -1)"
      ]
    },
    {
      "cell_type": "markdown",
      "metadata": {
        "id": "voPy_QTYqgCn"
      },
      "source": [
        "# Model (50 points)"
      ]
    },
    {
      "cell_type": "markdown",
      "metadata": {
        "id": "IVh4pPUbqgCn"
      },
      "source": [
        "Here is soft margin svm convex optimization formulation.\n",
        "$$\n",
        "\\begin{aligned}\n",
        "\\text { Minimize } & \\frac{1}{2}\\|\\mathbf{w}\\|^2+C \\sum_{i=1}^N \\xi_i \\\\\n",
        "\\text { Subject to } & y_i\\left(\\mathbf{w}^T \\mathbf{x}_i+b\\right) \\geq 1-\\xi_i, \\quad i=1,2, \\ldots, N \\\\\n",
        "& \\xi_i \\geq 0, \\quad i=1,2, \\ldots, N\n",
        "\\end{aligned}\n",
        "$$\n",
        "write dual of the soft margin svm optimization problem below:"
      ]
    },
    {
      "cell_type": "markdown",
      "metadata": {
        "id": "-Fjy2ya5uXWQ"
      },
      "source": [
        "\n",
        "Maximize:\n",
        "$$\n",
        "W(\\alpha) = \\sum_{i=1}^N \\alpha_i - \\frac{1}{2} \\sum_{i=1}^N \\sum_{j=1}^N \\alpha_i \\alpha_j y_i y_j x_i^T x_j\n",
        "$$\n",
        "\n",
        "Subject to:\n",
        "$$\n",
        "\\sum_{i=1}^N \\alpha_i y_i = 0\n",
        "$$\n",
        "$$\n",
        "0 \\leq \\alpha_i \\leq C, \\quad \\forall i = 1, 2, \\ldots, N\n",
        "$$\n"
      ]
    },
    {
      "cell_type": "markdown",
      "metadata": {
        "id": "Kb1SrfBrqgCn"
      },
      "source": [
        "Now you should write this optimization problem in standard Quadratic Program (QP) form and use a QP solver to find optimal answer. Here is General form of a QP:\n",
        "$$\n",
        "\\begin{aligned}\n",
        "\\text { Minimize } & \\frac{1}{2} x^TPx + q^Tx + r \\\\\n",
        "\\text { Subject to } & Gx \\leq h \\\\\n",
        "& Ax = b\n",
        "\\end{aligned}\n",
        "$$\n",
        "\n",
        "Complete functions below and use ```cvxopt``` library which is a common library for solving QPs. Note that you can't use ```scikit-learn``` library.\n"
      ]
    },
    {
      "cell_type": "code",
      "execution_count": 87,
      "metadata": {
        "id": "W1I8xybuqgCn"
      },
      "outputs": [],
      "source": [
        "def soft_margin_svm(X, y, C):\n",
        "    \"\"\"\n",
        "    input:\n",
        "        X: training data\n",
        "        y: training labels\n",
        "        C: errors weight\n",
        "    output:\n",
        "        support_vectros: data points which are SVs of our model.\n",
        "        support_vector_labels: labels of SVs\n",
        "        support_vector_alphas: alpha coefficient of corresponding SVs\n",
        "    \"\"\"\n",
        "\n",
        "    n_samples, n_features = X.shape\n",
        "    K = np.dot(X, X.T) * np.outer(y, y)\n",
        "    P = matrix(K)\n",
        "    q = matrix(-np.ones((n_samples, 1)))\n",
        "    G = matrix(np.vstack((-np.eye(n_samples), np.eye(n_samples))))\n",
        "    h = matrix(np.hstack((np.zeros(n_samples), np.ones(n_samples) * C)))\n",
        "    A = matrix(y.reshape(1, -1).astype(float))\n",
        "    b = matrix(np.zeros(1))\n",
        "\n",
        "    sol = solvers.qp(P, q, G, h, A, b)\n",
        "    alphas = np.array(sol['x']).flatten()\n",
        "\n",
        "    support_indices = alphas > 1e-5\n",
        "    support_vectors = X[support_indices]\n",
        "    support_vector_labels = y[support_indices]\n",
        "    support_vector_alphas = alphas[support_indices]\n",
        "\n",
        "    return support_vectors, support_vector_labels, support_vector_alphas"
      ]
    },
    {
      "cell_type": "code",
      "execution_count": 88,
      "metadata": {
        "colab": {
          "base_uri": "https://localhost:8080/"
        },
        "id": "SS0yL-OqqgCn",
        "outputId": "7018e1a9-d636-4023-d464-06d053b807bd"
      },
      "outputs": [
        {
          "name": "stdout",
          "output_type": "stream",
          "text": [
            "     pcost       dcost       gap    pres   dres\n",
            " 0: -5.8921e+02 -3.4559e+03  2e+04  3e+00  3e-13\n",
            " 1: -3.9934e+02 -2.3546e+03  3e+03  4e-01  2e-13\n",
            " 2: -3.6725e+02 -8.2789e+02  6e+02  5e-02  1e-13\n",
            " 3: -4.0461e+02 -5.6343e+02  2e+02  1e-02  9e-14\n",
            " 4: -4.2261e+02 -5.1687e+02  1e+02  7e-03  1e-13\n",
            " 5: -4.3851e+02 -4.7886e+02  4e+01  2e-03  1e-13\n",
            " 6: -4.4198e+02 -4.7110e+02  3e+01  1e-03  1e-13\n",
            " 7: -4.4593e+02 -4.6191e+02  2e+01  3e-04  1e-13\n",
            " 8: -4.4952e+02 -4.5658e+02  7e+00  1e-04  1e-13\n",
            " 9: -4.5158e+02 -4.5362e+02  2e+00  2e-05  1e-13\n",
            "10: -4.5228e+02 -4.5273e+02  5e-01  3e-06  1e-13\n",
            "11: -4.5245e+02 -4.5252e+02  7e-02  5e-07  1e-13\n",
            "12: -4.5248e+02 -4.5248e+02  2e-03  1e-08  1e-13\n",
            "13: -4.5248e+02 -4.5248e+02  4e-05  2e-10  1e-13\n",
            "Optimal solution found.\n"
          ]
        }
      ],
      "source": [
        "C = 1.0\n",
        "support_vectors, support_vector_labels, support_vector_alphas = soft_margin_svm(x_train, y_train, C)"
      ]
    },
    {
      "cell_type": "code",
      "execution_count": 89,
      "metadata": {
        "id": "35U6xjsmqgCo"
      },
      "outputs": [],
      "source": [
        "def predict_labels(x_test, support_vectors, support_vector_labels, support_vector_alphas):\n",
        "    \"\"\"\n",
        "    input:\n",
        "        x_test: test data\n",
        "        support_vectros: data points which are SVs of our model.\n",
        "        support_vector_labels: labels of SVs\n",
        "        support_vector_alphas: alpha coefficient of corresponding SVs\n",
        "    output:\n",
        "        y_pred: predictoin labels\n",
        "    \"\"\"\n",
        "\n",
        "    K = np.dot(x_test, support_vectors.T)\n",
        "\n",
        "    predictions = np.dot((support_vector_alphas * support_vector_labels), K.T)\n",
        "    y_pred = np.sign(predictions)\n",
        "    return y_pred"
      ]
    },
    {
      "cell_type": "code",
      "execution_count": 90,
      "metadata": {
        "id": "xepfDKYIqgCo"
      },
      "outputs": [],
      "source": [
        "y_pred = predict_labels(np.array(x_test), support_vectors, support_vector_labels, support_vector_alphas)"
      ]
    },
    {
      "cell_type": "markdown",
      "metadata": {
        "id": "TiTuKXUjqgCo"
      },
      "source": [
        "# Evaluation (20 points)"
      ]
    },
    {
      "cell_type": "markdown",
      "metadata": {
        "id": "WGgw1blTqgCo"
      },
      "source": [
        "Compute accuracy, balanced accuracy and plot confusion matrix of your trained model using ```Seaborn.heatmap()``` function. Use case of balanced accuracy is when dealing with imbalanced data, i.e. when one of the target classes appears a lot more than the other and it is defined by average of recall of classes. Confusion matrix is a $k\\times k$ (k is number of classes) matrix which cell ij is showing that number of data points labeld i which predicted j. For more detail of evaluation metrics you can see [here](https://neptune.ai/blog/balanced-accuracy).\n",
        "\n",
        "You may use ```scikit-learn``` library to compute these metrics."
      ]
    },
    {
      "cell_type": "code",
      "execution_count": 91,
      "metadata": {
        "colab": {
          "base_uri": "https://localhost:8080/"
        },
        "id": "eHhEjo4zqgCo",
        "outputId": "85ea821a-50cb-42cf-ed41-cedddbb1d9fe"
      },
      "outputs": [
        {
          "name": "stdout",
          "output_type": "stream",
          "text": [
            "Accuracy:  0.8299065420560747\n",
            "Balanced Accuracy:  0.7342657342657343\n",
            "Confusion Matrix:\n",
            " [[ 72  60]\n",
            " [ 31 372]]\n"
          ]
        }
      ],
      "source": [
        "def evaluate(y_test, y_pred):\n",
        "    \"\"\"\n",
        "    input:\n",
        "        y_test: true labels\n",
        "        y_pred: predicted labels\n",
        "    output:\n",
        "        accuracy: accuracy of the model\n",
        "        balanced_accuracy: balanced accuracy of the model\n",
        "        confusion_matrix: confusion matrix of the model\n",
        "    \"\"\"\n",
        "    accuracy = accuracy_score(y_test, y_pred)\n",
        "    balanced_accuracy = balanced_accuracy_score(y_test, y_pred)\n",
        "    confusion_mat = confusion_matrix(y_test, y_pred)\n",
        "\n",
        "    print(\"Accuracy: \", accuracy)\n",
        "    print(\"Balanced Accuracy: \", balanced_accuracy)\n",
        "    print(\"Confusion Matrix:\\n\", confusion_mat)\n",
        "    return accuracy, balanced_accuracy, confusion_mat\n",
        "\n",
        "\n",
        "_, _, confusion_mat = evaluate(y_test, y_pred)"
      ]
    },
    {
      "cell_type": "code",
      "execution_count": 92,
      "metadata": {
        "colab": {
          "base_uri": "https://localhost:8080/",
          "height": 447
        },
        "id": "nzSnqTRWqgCo",
        "outputId": "2bff5c1e-0cf5-41cd-983f-c6b334a28333"
      },
      "outputs": [
        {
          "data": {
            "text/plain": [
              "<Axes: >"
            ]
          },
          "execution_count": 92,
          "metadata": {},
          "output_type": "execute_result"
        },
        {
          "data": {
            "image/png": "[encoded data removed]",
            "text/plain": [
              "<Figure size 640x480 with 2 Axes>"
            ]
          },
          "metadata": {},
          "output_type": "display_data"
        }
      ],
      "source": [
        "cm_matrix = pd.DataFrame(data=confusion_mat, columns=['Predict Negative:-1', 'Predict Positive:1'],\n",
        "                                 index=['Actual Negative:-1', 'Actual Positive:1'])\n",
        "\n",
        "sns.heatmap(cm_matrix, annot=True, fmt='d', cmap='mako')"
      ]
    },
    {
      "cell_type": "markdown",
      "metadata": {
        "id": "Cbo9T8EmqgCp"
      },
      "source": [
        "# Fine-tunning (40 points)"
      ]
    },
    {
      "cell_type": "markdown",
      "metadata": {
        "id": "4mKSgY2HqgCp"
      },
      "source": [
        "like what you did before, implement Soft Margin SVM but now use rbf kernel. To determine rbf $\\gamma$ parameter use validation datas and find best(best by balanced accuracy) $\\gamma$ between 0.001 , 0.01, 1, 10, 100. Not that you can't use ```scikit-learn``` library here."
      ]
    },
    {
      "cell_type": "code",
      "execution_count": 93,
      "metadata": {
        "id": "DponeEMhqgCp"
      },
      "outputs": [],
      "source": [
        "def rbf(x1, x2, gamma=1):\n",
        "    \"\"\"\n",
        "    input:\n",
        "        x1: first vector\n",
        "        x2: second vector\n",
        "        gamma: rbf kernel parameter with defalt value 1.\n",
        "    output:\n",
        "        ouput: computed rbf of two input vectors\n",
        "    \"\"\"\n",
        "    # TODO: Write your code here\n",
        "    diff = np.expand_dims(x1, 1) - np.expand_dims(x2, 0)\n",
        "    output = np.exp(-gamma * np.sum(diff ** 2, axis=2))\n",
        "    return output\n",
        "\n",
        "def soft_margin_svm(X, y, C, gamma=1):\n",
        "    \"\"\"\n",
        "    input:\n",
        "        X: training data\n",
        "        y: training labels\n",
        "        C: errors weight\n",
        "        gamma: rbf kernel parameter with defalt value 1.\n",
        "    output:\n",
        "        support_vectros: data points which are SVs of our model.\n",
        "        support_vector_labels: labels of SVs\n",
        "        support_vector_alphas: alpha coefficient of corresponding SVs\n",
        "    \"\"\"\n",
        "\n",
        "    # TODO: Write your code here\n",
        "\n",
        "    n_samples, n_features = X.shape\n",
        "    K = rbf(X, X, gamma)\n",
        "    P = matrix(np.outer(y, y) * K)\n",
        "    q = matrix(-np.ones(n_samples))\n",
        "    G = matrix(np.vstack((-np.eye(n_samples), np.eye(n_samples))))\n",
        "    h = matrix(np.hstack((np.zeros(n_samples), np.ones(n_samples) * C)))\n",
        "    A = matrix(y, (1, n_samples), 'd')\n",
        "    b = matrix(0.0)\n",
        "\n",
        "    solution = solvers.qp(P, q, G, h, A, b)\n",
        "    alphas = np.array(solution['x']).flatten()\n",
        "\n",
        "    sv = alphas > 1e-5\n",
        "    support_vectors = X[sv]\n",
        "    support_vector_labels = y[sv]\n",
        "    support_vector_alphas = alphas[sv]\n",
        "\n",
        "    return support_vectors, support_vector_labels, support_vector_alphas"
      ]
    },
    {
      "cell_type": "code",
      "execution_count": 94,
      "metadata": {
        "colab": {
          "base_uri": "https://localhost:8080/"
        },
        "id": "QKxU0ZEpqgCp",
        "outputId": "fe085f44-cbfe-426f-89ae-056ca26ed8fe"
      },
      "outputs": [
        {
          "name": "stdout",
          "output_type": "stream",
          "text": [
            "0.1\n",
            "     pcost       dcost       gap    pres   dres\n",
            " 0: -3.4790e+02 -3.0276e+03  2e+04  3e+00  6e-15\n",
            " 1: -2.5226e+02 -1.8732e+03  2e+03  2e-01  4e-15\n",
            " 2: -2.6881e+02 -5.6277e+02  3e+02  2e-02  3e-15\n",
            " 3: -3.0902e+02 -4.0282e+02  1e+02  6e-03  4e-15\n",
            " 4: -3.2329e+02 -3.6636e+02  4e+01  2e-03  4e-15\n",
            " 5: -3.2998e+02 -3.5053e+02  2e+01  8e-04  4e-15\n",
            " 6: -3.3427e+02 -3.4086e+02  7e+00  2e-04  4e-15\n",
            " 7: -3.3590e+02 -3.3763e+02  2e+00  4e-07  5e-15\n",
            " 8: -3.3626e+02 -3.3709e+02  8e-01  3e-14  5e-15\n",
            " 9: -3.3660e+02 -3.3665e+02  5e-02  2e-16  5e-15\n",
            "10: -3.3662e+02 -3.3662e+02  1e-03  8e-15  5e-15\n",
            "11: -3.3662e+02 -3.3662e+02  1e-05  8e-15  5e-15\n",
            "Optimal solution found.\n",
            "0.1\n",
            "     pcost       dcost       gap    pres   dres\n",
            " 0: -3.4790e+02 -3.0276e+03  2e+04  3e+00  6e-15\n",
            " 1: -2.5226e+02 -1.8732e+03  2e+03  2e-01  4e-15\n",
            " 2: -2.6881e+02 -5.6277e+02  3e+02  2e-02  3e-15\n",
            " 3: -3.0902e+02 -4.0282e+02  1e+02  6e-03  4e-15\n",
            " 4: -3.2329e+02 -3.6636e+02  4e+01  2e-03  4e-15\n",
            " 5: -3.2998e+02 -3.5053e+02  2e+01  8e-04  4e-15\n",
            " 6: -3.3427e+02 -3.4086e+02  7e+00  2e-04  4e-15\n",
            " 7: -3.3590e+02 -3.3763e+02  2e+00  4e-07  5e-15\n",
            " 8: -3.3626e+02 -3.3709e+02  8e-01  3e-14  5e-15\n",
            " 9: -3.3660e+02 -3.3665e+02  5e-02  2e-16  5e-15\n",
            "10: -3.3662e+02 -3.3662e+02  1e-03  8e-15  5e-15\n",
            "11: -3.3662e+02 -3.3662e+02  1e-05  8e-15  5e-15\n",
            "Optimal solution found.\n",
            "1\n",
            "     pcost       dcost       gap    pres   dres\n",
            " 0: -2.4248e+02 -2.1964e+03  7e+03  2e+00  1e-15\n",
            " 1: -2.1979e+02 -1.2121e+03  1e+03  1e-01  7e-16\n",
            " 2: -2.4070e+02 -3.9681e+02  2e+02  1e-02  8e-16\n",
            " 3: -2.5792e+02 -2.8997e+02  3e+01  2e-03  6e-16\n",
            " 4: -2.6240e+02 -2.7005e+02  8e+00  3e-04  4e-16\n",
            " 5: -2.6363e+02 -2.6550e+02  2e+00  6e-05  4e-16\n",
            " 6: -2.6396e+02 -2.6443e+02  5e-01  1e-05  4e-16\n",
            " 7: -2.6406e+02 -2.6410e+02  4e-02  7e-08  4e-16\n",
            " 8: -2.6407e+02 -2.6407e+02  1e-03  2e-09  4e-16\n",
            " 9: -2.6407e+02 -2.6407e+02  5e-05  5e-11  4e-16\n",
            "Optimal solution found.\n",
            "10\n",
            "     pcost       dcost       gap    pres   dres\n",
            " 0: -4.7782e+02 -2.1372e+03  2e+03  2e-13  6e-16\n",
            " 1: -4.8662e+02 -5.2997e+02  4e+01  8e-15  3e-16\n",
            " 2: -4.9468e+02 -4.9518e+02  5e-01  9e-15  2e-16\n",
            " 3: -4.9478e+02 -4.9478e+02  5e-03  4e-15  2e-16\n",
            " 4: -4.9478e+02 -4.9478e+02  5e-05  6e-15  1e-16\n",
            "Optimal solution found.\n",
            "100\n",
            "     pcost       dcost       gap    pres   dres\n",
            " 0: -4.7798e+02 -2.1373e+03  2e+03  7e-13  4e-16\n",
            " 1: -4.8677e+02 -5.2920e+02  4e+01  2e-13  2e-16\n",
            " 2: -4.9482e+02 -4.9531e+02  5e-01  1e-13  5e-17\n",
            " 3: -4.9492e+02 -4.9492e+02  5e-03  6e-14  1e-16\n",
            " 4: -4.9492e+02 -4.9492e+02  5e-05  5e-14  6e-17\n",
            "Optimal solution found.\n",
            "10\n"
          ]
        }
      ],
      "source": [
        "gammas = [00.1, 0.1, 1, 10, 100]\n",
        "best_gamma = None\n",
        "best_balanced_accuracy = 0\n",
        "for gamma in gammas:\n",
        "    print(gamma)\n",
        "    support_vectors, support_vector_labels, support_vector_alphas = soft_margin_svm(x_train, y_train, C=1.0, gamma=gamma)\n",
        "    y_val_pred = predict_labels(x_val, support_vectors, support_vector_labels, support_vector_alphas)\n",
        "    current_accuracy = balanced_accuracy_score(y_val, y_val_pred)\n",
        "\n",
        "    if current_accuracy > best_balanced_accuracy:\n",
        "        best_balanced_accuracy = current_accuracy\n",
        "        best_gamma = gamma\n",
        "        best_support_vectors = support_vectors\n",
        "        best_support_vector_labels = support_vector_labels\n",
        "        best_support_vector_alphas = support_vector_alphas\n",
        "\n",
        "print(best_gamma)"
      ]
    },
    {
      "cell_type": "code",
      "execution_count": 95,
      "metadata": {
        "colab": {
          "base_uri": "https://localhost:8080/"
        },
        "id": "k-u-YT2TqgCp",
        "outputId": "0557e092-8513-44e3-948e-1055a6197b27"
      },
      "outputs": [
        {
          "name": "stdout",
          "output_type": "stream",
          "text": [
            "Accuracy:  0.8018691588785046\n",
            "Balanced Accuracy:  0.6978250244379276\n",
            "Confusion Matrix:\n",
            " [[ 65  67]\n",
            " [ 39 364]]\n"
          ]
        }
      ],
      "source": [
        "y_pred = predict_labels(np.array(x_test), best_support_vectors, best_support_vector_labels, best_support_vector_alphas)\n",
        "_, _, confusion_mat = evaluate(y_test, y_pred)"
      ]
    },
    {
      "cell_type": "markdown",
      "metadata": {
        "id": "DgVzV7dwqgCp"
      },
      "source": [
        "# Multiclass SVM (30 points + 50 points optional)"
      ]
    },
    {
      "cell_type": "markdown",
      "metadata": {
        "id": "FXNojpiaqgCp"
      },
      "source": [
        "Now we want implement Multiclass SVM. Use ```SVC``` function with rbf kernel from ```scikit-learn``` package on all train datas (all six classes) and choose best hyperparameters for $C$ and $\\gamma$ between 0.01, 0.1, 1, 10, 100. After that evaluate it with your function.\n",
        "\n",
        "Note that in this example we had enough data to split them in train and validation but in case that we don't have enough data, ```scikit-learn``` has a built-in fast library named ```GridSearchCV()``` which can help us in hyperparameter tunning with cross validation."
      ]
    },
    {
      "cell_type": "code",
      "execution_count": 96,
      "metadata": {
        "colab": {
          "base_uri": "https://localhost:8080/"
        },
        "id": "9_54_GwtqgCp",
        "outputId": "69d50871-6ba7-4d4d-ac49-b0c661e1be2c"
      },
      "outputs": [
        {
          "name": "stdout",
          "output_type": "stream",
          "text": [
            "Best parameters:  {'C': 10, 'gamma': 0.1}\n",
            "Best cross-validation score:  0.9088310800394132\n",
            "Test set accuracy:  0.925419515226849\n",
            "Balanced Accuracy:  0.8963883870479835\n"
          ]
        }
      ],
      "source": [
        "Cs = [0.01, 0.1, 1, 10, 100]\n",
        "gammas = [0.01, 0.1, 1, 10, 100]\n",
        "param_grid = {'C': Cs, 'gamma': gammas}\n",
        "\n",
        "svc = SVC(kernel='rbf')\n",
        "grid_search = GridSearchCV(svc, param_grid, cv=5, scoring='accuracy')\n",
        "grid_search.fit(x_train_non_binary, y_train_non_binary)\n",
        "print(\"Best parameters: \", grid_search.best_params_)\n",
        "print(\"Best cross-validation score: \", grid_search.best_score_)\n",
        "\n",
        "best_model = grid_search.best_estimator_\n",
        "y_pred = best_model.predict(x_test_non_binary)\n",
        "accuracy = accuracy_score(y_test_non_binary, y_pred)\n",
        "print(\"Test set accuracy: \", accuracy)\n",
        "balanced_accuracy = balanced_accuracy_score(y_test_non_binary, y_pred)\n",
        "print(\"Balanced Accuracy: \", balanced_accuracy)"
      ]
    },
    {
      "cell_type": "markdown",
      "metadata": {
        "id": "tVVf2d26qgCp"
      },
      "source": [
        "Implement Multiclass SVM from scratch without using ready functions (optional)."
      ]
    },
    {
      "cell_type": "code",
      "execution_count": 97,
      "metadata": {
        "colab": {
          "base_uri": "https://localhost:8080/"
        },
        "id": "yyahFTGFqgCq",
        "outputId": "0e9fbd17-e7cd-40f0-d915-72a4ec4d6f34"
      },
      "outputs": [
        {
          "name": "stdout",
          "output_type": "stream",
          "text": [
            "     pcost       dcost       gap    pres   dres\n",
            " 0:  1.2990e+03 -1.0160e+05  2e+05  3e-01  2e-14\n",
            " 1:  1.3142e+03 -1.3397e+04  2e+04  2e-02  2e-14\n",
            " 2:  4.8804e+02 -3.6784e+03  5e+03  4e-03  2e-14\n",
            " 3:  9.7952e+01 -1.5367e+03  2e+03  1e-03  1e-14\n",
            " 4: -4.1005e+01 -9.2145e+02  9e+02  6e-04  1e-14\n",
            " 5: -1.3358e+02 -5.0203e+02  4e+02  5e-06  1e-14\n",
            " 6: -1.7972e+02 -3.3091e+02  2e+02  2e-14  1e-14\n",
            " 7: -1.9949e+02 -2.6355e+02  6e+01  4e-14  1e-14\n",
            " 8: -2.0870e+02 -2.3596e+02  3e+01  3e-14  1e-14\n",
            " 9: -2.1352e+02 -2.2415e+02  1e+01  2e-14  1e-14\n",
            "10: -2.1492e+02 -2.2119e+02  6e+00  2e-14  1e-14\n",
            "11: -2.1590e+02 -2.1905e+02  3e+00  4e-16  1e-14\n",
            "12: -2.1669e+02 -2.1784e+02  1e+00  2e-14  1e-14\n",
            "13: -2.1701e+02 -2.1735e+02  3e-01  2e-14  1e-14\n",
            "14: -2.1713e+02 -2.1719e+02  6e-02  5e-15  1e-14\n",
            "15: -2.1716e+02 -2.1716e+02  7e-03  4e-16  1e-14\n",
            "16: -2.1716e+02 -2.1716e+02  1e-04  3e-15  2e-14\n",
            "Optimal solution found.\n",
            "     pcost       dcost       gap    pres   dres\n",
            " 0:  1.6335e+03 -8.2626e+04  2e+05  3e-01  7e-15\n",
            " 1:  1.1980e+03 -7.5911e+03  1e+04  1e-02  9e-15\n",
            " 2:  3.8636e+02 -2.0649e+03  3e+03  2e-03  9e-15\n",
            " 3:  1.0686e+02 -9.6587e+02  1e+03  7e-04  6e-15\n",
            " 4: -3.3192e+01 -4.0616e+02  4e+02  1e-04  5e-15\n",
            " 5: -8.0750e+01 -2.1719e+02  1e+02  3e-05  4e-15\n",
            " 6: -9.7622e+01 -1.5464e+02  6e+01  4e-06  3e-15\n",
            " 7: -1.0382e+02 -1.3245e+02  3e+01  1e-06  2e-15\n",
            " 8: -1.0789e+02 -1.1915e+02  1e+01  2e-14  3e-15\n",
            " 9: -1.0948e+02 -1.1483e+02  5e+00  3e-14  2e-15\n",
            "10: -1.1023e+02 -1.1291e+02  3e+00  3e-14  3e-15\n",
            "11: -1.1087e+02 -1.1165e+02  8e-01  1e-14  2e-15\n",
            "12: -1.1107e+02 -1.1133e+02  3e-01  3e-15  3e-15\n",
            "13: -1.1117e+02 -1.1119e+02  2e-02  5e-14  3e-15\n",
            "14: -1.1118e+02 -1.1118e+02  3e-04  8e-15  3e-15\n",
            "15: -1.1118e+02 -1.1118e+02  3e-06  3e-14  3e-15\n",
            "Optimal solution found.\n",
            "     pcost       dcost       gap    pres   dres\n",
            " 0: -7.8806e+01 -1.0742e+05  2e+05  3e-01  3e-14\n",
            " 1: -1.2989e+02 -1.7347e+04  2e+04  2e-02  3e-14\n",
            " 2: -7.6458e+02 -6.8626e+03  7e+03  6e-03  3e-14\n",
            " 3: -1.1168e+03 -4.6744e+03  4e+03  3e-03  3e-14\n",
            " 4: -1.3797e+03 -3.3355e+03  2e+03  1e-03  4e-14\n",
            " 5: -1.5627e+03 -2.5408e+03  1e+03  4e-04  4e-14\n",
            " 6: -1.6686e+03 -2.1414e+03  5e+02  2e-04  4e-14\n",
            " 7: -1.7332e+03 -1.9124e+03  2e+02  4e-05  4e-14\n",
            " 8: -1.7559e+03 -1.8388e+03  8e+01  7e-14  5e-14\n",
            " 9: -1.7704e+03 -1.7998e+03  3e+01  2e-14  5e-14\n",
            "10: -1.7763e+03 -1.7850e+03  9e+00  4e-15  5e-14\n",
            "11: -1.7777e+03 -1.7820e+03  4e+00  2e-13  5e-14\n",
            "12: -1.7784e+03 -1.7805e+03  2e+00  1e-14  5e-14\n",
            "13: -1.7789e+03 -1.7796e+03  7e-01  6e-14  5e-14\n",
            "14: -1.7791e+03 -1.7794e+03  3e-01  1e-13  5e-14\n",
            "15: -1.7792e+03 -1.7793e+03  1e-01  2e-13  5e-14\n",
            "16: -1.7792e+03 -1.7792e+03  2e-02  8e-14  5e-14\n",
            "17: -1.7792e+03 -1.7792e+03  1e-03  2e-13  5e-14\n",
            "Optimal solution found.\n",
            "     pcost       dcost       gap    pres   dres\n",
            " 0: -1.0534e+03 -1.3917e+05  3e+05  4e-01  3e-14\n",
            " 1: -8.8492e+02 -2.5153e+04  3e+04  3e-02  4e-14\n",
            " 2: -1.6715e+03 -9.7059e+03  9e+03  7e-03  4e-14\n",
            " 3: -2.2599e+03 -6.0559e+03  4e+03  2e-03  4e-14\n",
            " 4: -2.5657e+03 -4.9768e+03  3e+03  9e-04  4e-14\n",
            " 5: -2.8491e+03 -3.9122e+03  1e+03  3e-04  5e-14\n",
            " 6: -2.9886e+03 -3.4706e+03  5e+02  5e-06  6e-14\n",
            " 7: -3.0621e+03 -3.2701e+03  2e+02  1e-06  5e-14\n",
            " 8: -3.0971e+03 -3.1864e+03  9e+01  1e-13  6e-14\n",
            " 9: -3.1182e+03 -3.1470e+03  3e+01  3e-13  6e-14\n",
            "10: -3.1276e+03 -3.1315e+03  4e+00  4e-13  6e-14\n",
            "11: -3.1292e+03 -3.1293e+03  1e-01  3e-13  6e-14\n",
            "12: -3.1293e+03 -3.1293e+03  2e-03  3e-13  6e-14\n",
            "Optimal solution found.\n",
            "     pcost       dcost       gap    pres   dres\n",
            " 0:  1.5416e+03 -1.4046e+05  3e+05  4e-01  2e-14\n",
            " 1:  1.8737e+03 -2.3904e+04  4e+04  3e-02  2e-14\n",
            " 2:  5.6449e+02 -6.0644e+03  8e+03  5e-03  2e-14\n",
            " 3: -9.9539e+01 -2.3920e+03  2e+03  1e-03  2e-14\n",
            " 4: -3.6188e+02 -1.2820e+03  9e+02  2e-04  2e-14\n",
            " 5: -4.7616e+02 -8.7718e+02  4e+02  7e-05  2e-14\n",
            " 6: -5.2853e+02 -7.1839e+02  2e+02  1e-13  2e-14\n",
            " 7: -5.5701e+02 -6.3192e+02  7e+01  4e-14  2e-14\n",
            " 8: -5.6796e+02 -6.0273e+02  3e+01  6e-14  2e-14\n",
            " 9: -5.7380e+02 -5.8759e+02  1e+01  7e-14  2e-14\n",
            "10: -5.7635e+02 -5.8267e+02  6e+00  9e-15  2e-14\n",
            "11: -5.7802e+02 -5.7953e+02  2e+00  3e-14  2e-14\n",
            "12: -5.7843e+02 -5.7891e+02  5e-01  5e-14  2e-14\n",
            "13: -5.7857e+02 -5.7872e+02  2e-01  4e-14  2e-14\n",
            "14: -5.7860e+02 -5.7868e+02  8e-02  5e-15  2e-14\n",
            "15: -5.7862e+02 -5.7864e+02  2e-02  2e-14  2e-14\n",
            "16: -5.7863e+02 -5.7863e+02  1e-03  3e-14  2e-14\n",
            "17: -5.7863e+02 -5.7863e+02  2e-05  8e-15  2e-14\n",
            "Optimal solution found.\n",
            "     pcost       dcost       gap    pres   dres\n",
            " 0:  9.8259e+01 -1.3655e+05  3e+05  4e-01  3e-14\n",
            " 1:  3.7842e+01 -2.1782e+04  3e+04  2e-02  3e-14\n",
            " 2: -1.0863e+03 -8.0977e+03  8e+03  5e-03  3e-14\n",
            " 3: -1.5844e+03 -5.2702e+03  4e+03  2e-03  4e-14\n",
            " 4: -1.8611e+03 -3.9928e+03  2e+03  1e-03  4e-14\n",
            " 5: -2.0483e+03 -3.2336e+03  1e+03  4e-04  5e-14\n",
            " 6: -2.1913e+03 -2.6638e+03  5e+02  1e-05  6e-14\n",
            " 7: -2.2610e+03 -2.4478e+03  2e+02  3e-13  6e-14\n",
            " 8: -2.2961e+03 -2.3535e+03  6e+01  2e-13  6e-14\n",
            " 9: -2.3048e+03 -2.3341e+03  3e+01  1e-13  6e-14\n",
            "10: -2.3117e+03 -2.3203e+03  9e+00  9e-14  6e-14\n",
            "11: -2.3141e+03 -2.3158e+03  2e+00  9e-14  6e-14\n",
            "12: -2.3146e+03 -2.3150e+03  4e-01  2e-13  6e-14\n",
            "13: -2.3147e+03 -2.3149e+03  1e-01  1e-14  6e-14\n",
            "14: -2.3148e+03 -2.3148e+03  4e-02  2e-13  6e-14\n",
            "15: -2.3148e+03 -2.3148e+03  2e-02  1e-13  6e-14\n",
            "16: -2.3148e+03 -2.3148e+03  5e-03  2e-15  5e-14\n",
            "17: -2.3148e+03 -2.3148e+03  1e-03  2e-13  6e-14\n",
            "Optimal solution found.\n"
          ]
        }
      ],
      "source": [
        "def svm_train_rbf(X, y, C, gamma):\n",
        "    n_samples, n_features = X.shape\n",
        "\n",
        "    K = rbf(X, X, gamma)\n",
        "    P = matrix(np.outer(y, y) * K)\n",
        "    q = matrix(-np.ones((n_samples, 1)))\n",
        "    G = matrix(np.vstack((np.eye(n_samples) * -1, np.eye(n_samples))))\n",
        "    h = matrix(np.hstack((np.zeros(n_samples), np.ones(n_samples) * C)))\n",
        "    A = matrix(y.reshape(1, -1), tc='d')\n",
        "    b = matrix(np.zeros(1))\n",
        "\n",
        "    solution = solvers.qp(P, q, G, h, A, b)\n",
        "    alphas = np.ravel(solution['x'])\n",
        "\n",
        "    sv = alphas > 1e-5\n",
        "    support_vectors = X[sv]\n",
        "    support_vector_labels = y[sv]\n",
        "    support_vector_alphas = alphas[sv]\n",
        "\n",
        "    b = np.mean([y_k - np.sum(support_vector_alphas * support_vector_labels *\n",
        "                              rbf(support_vectors, x_k, gamma))\n",
        "                 for x_k, y_k in zip(support_vectors, support_vector_labels)])\n",
        "\n",
        "    return support_vectors, support_vector_alphas, support_vector_labels, b\n",
        "\n",
        "\n",
        "def train_one_vs_rest_svm_rbf(X, Y, C, gamma):\n",
        "    classes = np.unique(Y)\n",
        "    models = {}\n",
        "\n",
        "    for c in classes:\n",
        "        y_binary = np.where(Y == c, 1, -1)\n",
        "        model = svm_train_rbf(X, y_binary, C, gamma)\n",
        "        models[c] = model\n",
        "\n",
        "    return models\n",
        "\n",
        "def predict_one_vs_rest_rbf(models, X):\n",
        "    n_samples = X.shape[0]\n",
        "    predictions = np.zeros(n_samples)\n",
        "\n",
        "    for i in range(n_samples):\n",
        "        decision_values = {c: np.sum(alphas * labels * rbf(sv, X[i], gamma))\n",
        "                           for c, (sv, alphas, labels, gamma) in models.items()}\n",
        "        predictions[i] = max(decision_values, key=decision_values.get)\n",
        "\n",
        "    return predictions\n",
        "\n",
        "\n",
        "C = 10\n",
        "gamma = 0.1\n",
        "models = train_one_vs_rest_svm_rbf(x_train_non_binary, y_train_non_binary, C, gamma)\n",
        "predictions = predict_one_vs_rest_rbf(models, x_test_non_binary)"
      ]
    },
    {
      "cell_type": "markdown",
      "metadata": {
        "id": "z7mitHnhqgCq"
      },
      "source": [
        "# Different SVM Kernels (40 points)"
      ]
    },
    {
      "cell_type": "markdown",
      "metadata": {
        "id": "hCBahIAFqgCq"
      },
      "source": [
        "A kernel in SVM is like a tool that helps solve tricky problems. It lets us work in a space with many dimensions, making complex calculations easier. With kernels, we can deal with lots of dimensions, even an endless amount. Kernels are crucial for sorting data into groups and help spot patterns in the data we're looking at. They're especially good at tackling twisty problems with a straightforward approach.\n",
        "\n",
        "Sometimes, finding a straight line or flat surface to divide data isn't possible, especially as we explore more dimensions. That's where different types of SVM kernels come in handy. They transform twisty, complicated data into a simpler form that's easier to separate. In this explanation, we talk about 4 popular types of these kernels. Also in following cells you can use any package.\n",
        "\n",
        "<img src=\"./kernel.jpg\" alt=\"Types of Kernel Functions\"  align=center class=\"saturate\">"
      ]
    },
    {
      "cell_type": "markdown",
      "metadata": {
        "id": "gbz7ldebqgCq"
      },
      "source": [
        "### Linear Kernel"
      ]
    },
    {
      "cell_type": "markdown",
      "metadata": {
        "id": "pF5d4eIaqgCq"
      },
      "source": [
        "This is the simplest kind of kernel, typically working in one dimension. It works best when dealing with a lot of features. Linear kernels are quicker than other types.\n",
        "\n",
        "**Formula:**\n",
        "\n",
        "$$F(x, x_j) = sum(x, x_j)$$\n",
        "\n",
        "Now Implement svc classifier using a linear kernel. Get the prediction and evaluate it by function which you implemented before. Also plot confusion matrix by `Seaborn`."
      ]
    },
    {
      "cell_type": "code",
      "execution_count": 98,
      "metadata": {
        "colab": {
          "base_uri": "https://localhost:8080/",
          "height": 599
        },
        "id": "px48VhcaqgCs",
        "outputId": "4e176566-2e03-432d-d5e9-510851ade8a6"
      },
      "outputs": [
        {
          "name": "stdout",
          "output_type": "stream",
          "text": [
            "Accuracy:  0.8657551274083282\n",
            "Balanced Accuracy:  0.8244508930714288\n"
          ]
        },
        {
          "data": {
            "image/png": "[encoded data removed]",
            "text/plain": [
              "<Figure size 900x600 with 2 Axes>"
            ]
          },
          "metadata": {},
          "output_type": "display_data"
        }
      ],
      "source": [
        "x_combined = np.concatenate([x_train_non_binary, x_val_non_binary], axis=0)\n",
        "y_combined = np.concatenate([y_train_non_binary, y_val_non_binary], axis=0)\n",
        "\n",
        "svc_linear = SVC(kernel='linear')\n",
        "svc_linear.fit(x_combined, y_combined)\n",
        "y_pred = svc_linear.predict(x_test_non_binary)\n",
        "accuracy = accuracy_score(y_test_non_binary, y_pred)\n",
        "print(\"Accuracy: \", accuracy)\n",
        "balanced_accuracy = balanced_accuracy_score(y_test_non_binary, y_pred)\n",
        "print(\"Balanced Accuracy: \", balanced_accuracy)\n",
        "\n",
        "cm = confusion_matrix(y_test_non_binary, y_pred)\n",
        "plt.figure(figsize=(9, 6))\n",
        "sns.heatmap(cm, annot=True, fmt=\"d\", cmap='Blues', xticklabels=np.unique(y_test_non_binary), yticklabels=np.unique(y_test_non_binary))\n",
        "plt.xlabel('Predicted')\n",
        "plt.ylabel('True')\n",
        "plt.title('Confusion Matrix')\n",
        "plt.show()\n",
        "# Since it was vague what to do here, I trained the model on 75% of the data and tested on 25% of the data"
      ]
    },
    {
      "cell_type": "markdown",
      "metadata": {
        "id": "Fgd2ErluqgCs"
      },
      "source": [
        "### Gaussian RBF kernel"
      ]
    },
    {
      "cell_type": "markdown",
      "metadata": {
        "id": "SGr85FdQqgCs"
      },
      "source": [
        "This kernel is a favorite choice in SVM, especially for data that doesn't line up straight. It's great for sorting data when you don't know much about it beforehand.\n",
        "\n",
        "**Formula:**\n",
        "\n",
        "$$F(x, x_j) = \\exp{(-\\gamma ||x - xj||^2)}$$\n",
        "\n",
        "Now, configure the SVC classifier with a sigmoid kernel. Get the prediction and evaluate it by function which you implemented before. Also plot confusion matrix as previous part."
      ]
    },
    {
      "cell_type": "code",
      "execution_count": 99,
      "metadata": {
        "colab": {
          "base_uri": "https://localhost:8080/",
          "height": 599
        },
        "id": "c98YaswjqgCt",
        "outputId": "7ff07f29-829f-4eb7-c90b-d034d2fbeff7"
      },
      "outputs": [
        {
          "name": "stdout",
          "output_type": "stream",
          "text": [
            "Accuracy:  0.8906152889993785\n",
            "Balanced Accuracy:  0.8592437472073429\n"
          ]
        },
        {
          "data": {
            "image/png": "[encoded data removed]",
            "text/plain": [
              "<Figure size 900x600 with 2 Axes>"
            ]
          },
          "metadata": {},
          "output_type": "display_data"
        }
      ],
      "source": [
        "svc_rbf = SVC(kernel='rbf', gamma='scale')\n",
        "svc_rbf.fit(x_combined, y_combined)\n",
        "y_pred_rbf = svc_rbf.predict(x_test_non_binary)\n",
        "\n",
        "accuracy_rbf = accuracy_score(y_test_non_binary, y_pred_rbf)\n",
        "balanced_acc_rbf = balanced_accuracy_score(y_test_non_binary, y_pred_rbf)\n",
        "print(\"Accuracy: \", accuracy_rbf)\n",
        "print(\"Balanced Accuracy: \", balanced_acc_rbf)\n",
        "\n",
        "cm_rbf = confusion_matrix(y_test_non_binary, y_pred_rbf)\n",
        "plt.figure(figsize=(9, 6))\n",
        "sns.heatmap(cm_rbf, annot=True, fmt=\"d\", cmap='Greens', xticklabels=np.unique(y_test_non_binary), yticklabels=np.unique(y_test_non_binary))\n",
        "plt.xlabel('Predicted')\n",
        "plt.ylabel('True')\n",
        "plt.title('Confusion Matrix')\n",
        "plt.show()"
      ]
    },
    {
      "cell_type": "markdown",
      "metadata": {
        "id": "LYk4WOaMqgCt"
      },
      "source": [
        "### Polynomial Kernel"
      ]
    },
    {
      "cell_type": "markdown",
      "metadata": {
        "id": "UOtrvztzqgCt"
      },
      "source": [
        "This is a broader version of the linear kernel. It's not as popular because it's not as quick or precise.\n",
        "\n",
        "**Formula:**\n",
        "\n",
        "$$F(x, x_j) = (x.x_j+1)^d$$\n",
        "\n",
        "Now, set up the SVC classifier using a *polynomial* kernel. Get the prediction and evaluate it by function which you implemented before. Also plot confusion matrix as previous parts."
      ]
    },
    {
      "cell_type": "code",
      "execution_count": 100,
      "metadata": {
        "colab": {
          "base_uri": "https://localhost:8080/",
          "height": 599
        },
        "id": "IryNs8MNqgCt",
        "outputId": "aac7c61c-30cd-45ec-c1b2-7f4e8556d8dc"
      },
      "outputs": [
        {
          "name": "stdout",
          "output_type": "stream",
          "text": [
            "Accuracy:  0.8980733374766936\n",
            "Balanced Accuracy:  0.8660218846994341\n"
          ]
        },
        {
          "data": {
            "image/png": "[encoded data removed]",
            "text/plain": [
              "<Figure size 900x600 with 2 Axes>"
            ]
          },
          "metadata": {},
          "output_type": "display_data"
        }
      ],
      "source": [
        "svc_polynomial = SVC(kernel='poly', degree=3, gamma='scale', coef0=1.0)\n",
        "svc_polynomial.fit(x_combined, y_combined)\n",
        "y_pred_poly = svc_polynomial.predict(x_test_non_binary)\n",
        "accuracy_poly = accuracy_score(y_test_non_binary, y_pred_poly)\n",
        "balanced_acc_poly = balanced_accuracy_score(y_test_non_binary, y_pred_poly)\n",
        "print(\"Accuracy: \", accuracy_poly)\n",
        "print(\"Balanced Accuracy: \", balanced_acc_poly)\n",
        "\n",
        "cm_poly = confusion_matrix(y_test_non_binary, y_pred_poly)\n",
        "plt.figure(figsize=(9, 6))\n",
        "sns.heatmap(cm_poly, annot=True, fmt=\"d\", cmap='BuGn', xticklabels=np.unique(y_combined), yticklabels=np.unique(y_combined))\n",
        "plt.xlabel('Predicted')\n",
        "plt.ylabel('True')\n",
        "plt.title('Confusion Matrix')\n",
        "plt.show()"
      ]
    },
    {
      "cell_type": "markdown",
      "metadata": {
        "id": "GSUGB7gLqgCt"
      },
      "source": [
        "### Sigmoid Kernel"
      ]
    },
    {
      "cell_type": "markdown",
      "metadata": {
        "id": "_DYZtdKHqgCt"
      },
      "source": [
        "This is mainly chosen for use with neural networks. The kernel function acts like the activation function in a two-layer perceptron neural network model, helping to activate the neurons.\n",
        "\n",
        "**Formula:**\n",
        "\n",
        "$$F(x, x_j) = \\tanh(α x a y + c)$$\n",
        "\n",
        "Now, configure the SVC classifier with a sigmoid kernel. Get the prediction and evaluate it by function which you implemented before. Also plot confusion matrix as previous parts."
      ]
    },
    {
      "cell_type": "code",
      "execution_count": 101,
      "metadata": {
        "colab": {
          "base_uri": "https://localhost:8080/",
          "height": 676
        },
        "id": "yuLloZIVqgCt",
        "outputId": "b2b6fd4f-9bc9-41e5-db73-a08db0f03701"
      },
      "outputs": [
        {
          "name": "stdout",
          "output_type": "stream",
          "text": [
            "Accuracy:  0.6861404599129894\n",
            "Balanced Accuracy:  0.5801569196942854\n"
          ]
        },
        {
          "data": {
            "image/png": "[encoded data removed]",
            "text/plain": [
              "<Figure size 1000x700 with 2 Axes>"
            ]
          },
          "metadata": {},
          "output_type": "display_data"
        }
      ],
      "source": [
        "svc_sigmoid = SVC(kernel='sigmoid', gamma='scale', coef0=1.0)\n",
        "svc_sigmoid.fit(x_val_test, y_val_test)\n",
        "y_pred_sigmoid = svc_sigmoid.predict(x_test_non_binary)\n",
        "\n",
        "accuracy_sigmoid = accuracy_score(y_test_non_binary, y_pred_sigmoid)\n",
        "balanced_acc_sigmoid = balanced_accuracy_score(y_test_non_binary, y_pred_sigmoid)\n",
        "print(\"Accuracy: \", accuracy_sigmoid)\n",
        "print(\"Balanced Accuracy: \", balanced_acc_sigmoid)\n",
        "\n",
        "cm_sigmoid = confusion_matrix(y_test_non_binary, y_pred_sigmoid)\n",
        "plt.figure(figsize=(10, 7))\n",
        "sns.heatmap(cm_sigmoid, annot=True, fmt=\"d\", cmap='Blues', xticklabels=np.unique(y_test_non_binary), yticklabels=np.unique(y_test_non_binary))\n",
        "plt.xlabel('Predicted')\n",
        "plt.ylabel('True')\n",
        "plt.title('Confusion Matrix')\n",
        "plt.show()"
      ]
    },
    {
      "cell_type": "markdown",
      "metadata": {
        "id": "e5wB8yxDqgCt"
      },
      "source": [
        "Compare these four kernel functions with each other. What are the main advantages and disadvantages of each one?"
      ]
    },
    {
      "cell_type": "markdown",
      "metadata": {
        "id": "Kqo0cJyOqgCu"
      },
      "source": [
        "\n",
        "\n",
        "\n",
        "\n",
        "`Linear kernel has good classification for the first classes, but has some misclassifications in class 4 and class 5. Gaussian kernel has very high accuracy across all classes with some small errors in 4, 5, 6 categories. Polynomial kernel has identical performance to the Gaussian kernel in both metrics and confusion matrix distribution. This suggests that the polynomial degree effectively captures the data structure, similar to the RBF kernel. Sigmoid kernel has lower performance across most classes compared to other kernels. This shows sigmoid function does not model the separations between classes well in this dataset. Linear kernel is a good choice for this dataset if we care about Speed and Simplicity with a bit lower perfomance. However, we should choose the Gaussian or Polynomial kernel for the best accuracy and handling of complex patterns in data.`"
      ]
    }
  ],
  "metadata": {
    "colab": {
      "provenance": []
    },
    "kernelspec": {
      "display_name": "Python 3",
      "language": "python",
      "name": "python3"
    },
    "language_info": {
      "codemirror_mode": {
        "name": "ipython",
        "version": 3
      },
      "file_extension": ".py",
      "mimetype": "text/x-python",
      "name": "python",
      "nbconvert_exporter": "python",
      "pygments_lexer": "ipython3",
      "version": "3.11.2"
    }
  },
  "nbformat": 4,
  "nbformat_minor": 0
}
