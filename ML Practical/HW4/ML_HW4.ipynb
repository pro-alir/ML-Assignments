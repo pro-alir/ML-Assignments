{
  "nbformat": 4,
  "nbformat_minor": 0,
  "metadata": {
    "colab": {
      "provenance": [],
      "gpuType": "T4"
    },
    "kernelspec": {
      "name": "python3",
      "display_name": "Python 3"
    },
    "language_info": {
      "name": "python"
    },
    "accelerator": "GPU"
  },
  "cells": [
    {
      "cell_type": "markdown",
      "source": [
        "# Bank Marketing Classification\n",
        "\n",
        "In this part of the assignment we want to do a classification task using PyTorch on bank marketing dataset."
      ],
      "metadata": {
        "id": "MT-ucU8DVPt8"
      }
    },
    {
      "cell_type": "markdown",
      "source": [
        "#Import Library"
      ],
      "metadata": {
        "id": "rZlNNmgqYkV4"
      }
    },
    {
      "cell_type": "code",
      "source": [
        "import torch\n",
        "import torch.nn as nn\n",
        "import torch.optim as optim\n",
        "import pandas as pd\n",
        "import tqdm\n",
        "import numpy as np\n",
        "import matplotlib.pyplot as plt\n",
        "from sklearn.model_selection import train_test_split\n",
        "from sklearn.preprocessing import StandardScaler, LabelEncoder\n",
        "from torch.utils.data import DataLoader, TensorDataset\n",
        "from google.colab import drive"
      ],
      "metadata": {
        "id": "NOh9eJ4pYnu2"
      },
      "execution_count": 26,
      "outputs": []
    },
    {
      "cell_type": "markdown",
      "source": [
        "#Load Dataset\n",
        "Here, you should download and load the dataset. After that, you should split train dataset to train and validation sets. Finally, define the dataloaders for `train`, `validation` and `test`"
      ],
      "metadata": {
        "id": "EJaMVgX1XcZm"
      }
    },
    {
      "cell_type": "code",
      "source": [
        "# Mount Google Drive\n",
        "drive.mount('/content/gdrive/', force_remount=True)\n",
        "\n",
        "%cp /content/gdrive/MyDrive/ML/HW4/q1/bank-full.csv /content/\n",
        "data = pd.read_csv('bank-full.csv', sep=';')\n",
        "data.columns = data.columns.str.replace('\"', '')\n",
        "\n",
        "label_encoders = {}\n",
        "for column in data.select_dtypes(include=['object']).columns:\n",
        "    le = LabelEncoder()\n",
        "    data[column] = le.fit_transform(data[column])\n",
        "    label_encoders[column] = le\n",
        "\n",
        "X = data.drop(columns=['y'])\n",
        "y = data['y']\n",
        "\n",
        "X_train, X_temp, y_train, y_temp = train_test_split(X, y, test_size=0.4, random_state=42)\n",
        "X_val, X_test, y_val, y_test = train_test_split(X_temp, y_temp, test_size=0.5, random_state=42)"
      ],
      "metadata": {
        "id": "9YSstSPUXwu2",
        "colab": {
          "base_uri": "https://localhost:8080/"
        },
        "outputId": "2dbc79bb-b5f9-4332-c6cf-29d0fc6fed44"
      },
      "execution_count": 27,
      "outputs": [
        {
          "output_type": "stream",
          "name": "stdout",
          "text": [
            "Mounted at /content/gdrive/\n"
          ]
        }
      ]
    },
    {
      "cell_type": "markdown",
      "source": [
        "#Normalize data\n",
        "normalize numerical data."
      ],
      "metadata": {
        "id": "Keip2OUFX8qk"
      }
    },
    {
      "cell_type": "code",
      "source": [
        "scaler = StandardScaler()\n",
        "X_train = scaler.fit_transform(X_train)\n",
        "X_val = scaler.transform(X_val)\n",
        "X_test = scaler.transform(X_test)"
      ],
      "metadata": {
        "id": "e-Wk_AoiYfo4"
      },
      "execution_count": 28,
      "outputs": []
    },
    {
      "cell_type": "markdown",
      "source": [
        "# Create Data Loader\n",
        "create data loader for pytorch"
      ],
      "metadata": {
        "id": "8TnDg_OtYrWl"
      }
    },
    {
      "cell_type": "code",
      "source": [
        "train_dataset = TensorDataset(torch.tensor(X_train, dtype=torch.float32), torch.tensor(y_train.values, dtype=torch.float32))\n",
        "val_dataset = TensorDataset(torch.tensor(X_val, dtype=torch.float32), torch.tensor(y_val.values, dtype=torch.float32))\n",
        "test_dataset = TensorDataset(torch.tensor(X_test, dtype=torch.float32), torch.tensor(y_test.values, dtype=torch.float32))\n",
        "\n",
        "train_loader = DataLoader(train_dataset, batch_size=64, shuffle=True)\n",
        "val_loader = DataLoader(val_dataset, batch_size=64, shuffle=False)\n",
        "test_loader = DataLoader(test_dataset, batch_size=64, shuffle=False)"
      ],
      "metadata": {
        "id": "yIdgxZMUYqzE"
      },
      "execution_count": 29,
      "outputs": []
    },
    {
      "cell_type": "markdown",
      "source": [
        "#Model\n",
        "define your model in here"
      ],
      "metadata": {
        "id": "GBtQo2PBY9zS"
      }
    },
    {
      "cell_type": "code",
      "source": [
        "class BankMarketingNet(nn.Module):\n",
        "    def __init__(self):\n",
        "        super(BankMarketingNet, self).__init__()\n",
        "        self.fc1 = nn.Linear(X_train.shape[1], 128)\n",
        "        self.fc2 = nn.Linear(128, 64)\n",
        "        self.fc3 = nn.Linear(64, 1)\n",
        "        self.relu = nn.ReLU()\n",
        "        self.sigmoid = nn.Sigmoid()\n",
        "\n",
        "    def forward(self, x):\n",
        "        x = self.relu(self.fc1(x))\n",
        "        x = self.relu(self.fc2(x))\n",
        "        x = self.sigmoid(self.fc3(x))\n",
        "        return x"
      ],
      "metadata": {
        "id": "C5k1GGexZCGD"
      },
      "execution_count": 30,
      "outputs": []
    },
    {
      "cell_type": "markdown",
      "source": [
        "#Train your model\n",
        "Define `criterion` and `optimizer`.\n",
        "Train your model\n",
        "\n",
        "Tasks:\n",
        "- [ ] Things that are needed to be printed in each epoch:\n",
        "  - Number of epoch\n",
        "  - Train loss\n",
        "  - Validation loss\n",
        "- [ ] save train/validation loss (of each epoch) in an array for later usage"
      ],
      "metadata": {
        "id": "P_ef2VVkZHpj"
      }
    },
    {
      "cell_type": "code",
      "source": [
        "model = BankMarketingNet()\n",
        "criterion = nn.BCELoss()\n",
        "optimizer = optim.Adam(model.parameters(), lr=0.001)\n",
        "\n",
        "num_epochs = 20\n",
        "train_losses = []\n",
        "val_losses = []\n",
        "\n",
        "for epoch in range(num_epochs):\n",
        "    model.train()\n",
        "    running_loss = 0.0\n",
        "    for inputs, labels in train_loader:\n",
        "        optimizer.zero_grad()\n",
        "        outputs = model(inputs)\n",
        "        loss = criterion(outputs.squeeze(), labels)\n",
        "        loss.backward()\n",
        "        optimizer.step()\n",
        "        running_loss += loss.item()\n",
        "\n",
        "    train_loss = running_loss / len(train_loader)\n",
        "    train_losses.append(train_loss)\n",
        "\n",
        "    model.eval()\n",
        "    val_loss = 0.0\n",
        "    with torch.no_grad():\n",
        "        for inputs, labels in val_loader:\n",
        "            outputs = model(inputs)\n",
        "            loss = criterion(outputs.squeeze(), labels)\n",
        "            val_loss += loss.item()\n",
        "\n",
        "    val_loss /= len(val_loader)\n",
        "    val_losses.append(val_loss)\n",
        "\n",
        "    print(\"Epoch\", epoch + 1, \"/\", num_epochs, \", Train Loss:\", train_loss, \", Validation Loss:\", val_loss)"
      ],
      "metadata": {
        "colab": {
          "base_uri": "https://localhost:8080/"
        },
        "id": "7BC2acuYZH0j",
        "outputId": "593fd6c4-3ff5-4caa-ad76-570b1fe2e056"
      },
      "execution_count": 31,
      "outputs": [
        {
          "output_type": "stream",
          "name": "stdout",
          "text": [
            "Epoch 1 / 20 , Train Loss: 0.2715344798030718 , Validation Loss: 0.24096749172034398\n",
            "Epoch 2 / 20 , Train Loss: 0.23702629539623576 , Validation Loss: 0.23505315672553762\n",
            "Epoch 3 / 20 , Train Loss: 0.23107028638346577 , Validation Loss: 0.23332444300324146\n",
            "Epoch 4 / 20 , Train Loss: 0.2274791723784973 , Validation Loss: 0.22966249192684468\n",
            "Epoch 5 / 20 , Train Loss: 0.22442444378756127 , Validation Loss: 0.2316083700828989\n",
            "Epoch 6 / 20 , Train Loss: 0.22300569402089096 , Validation Loss: 0.23237269786252102\n",
            "Epoch 7 / 20 , Train Loss: 0.22114254848785558 , Validation Loss: 0.23218923324430493\n",
            "Epoch 8 / 20 , Train Loss: 0.21931826015758626 , Validation Loss: 0.22651209367412917\n",
            "Epoch 9 / 20 , Train Loss: 0.2161522750514296 , Validation Loss: 0.23087933879922812\n",
            "Epoch 10 / 20 , Train Loss: 0.2146652507999877 , Validation Loss: 0.23303067154237922\n",
            "Epoch 11 / 20 , Train Loss: 0.21310446982465261 , Validation Loss: 0.22734503002024034\n",
            "Epoch 12 / 20 , Train Loss: 0.21069115930113871 , Validation Loss: 0.2322927128628526\n",
            "Epoch 13 / 20 , Train Loss: 0.20963930414181273 , Validation Loss: 0.2291187364345705\n",
            "Epoch 14 / 20 , Train Loss: 0.2069347445624617 , Validation Loss: 0.22807720623595615\n",
            "Epoch 15 / 20 , Train Loss: 0.20478661093017403 , Validation Loss: 0.22740919195430379\n",
            "Epoch 16 / 20 , Train Loss: 0.20298200385328732 , Validation Loss: 0.22915316147493645\n",
            "Epoch 17 / 20 , Train Loss: 0.20187890194004998 , Validation Loss: 0.23006770665376958\n",
            "Epoch 18 / 20 , Train Loss: 0.19973745451853522 , Validation Loss: 0.23006702382379854\n",
            "Epoch 19 / 20 , Train Loss: 0.19835757834942275 , Validation Loss: 0.2290278352587156\n",
            "Epoch 20 / 20 , Train Loss: 0.19751661400890574 , Validation Loss: 0.22874809775344082\n"
          ]
        }
      ]
    },
    {
      "cell_type": "markdown",
      "source": [
        "### Visualize Loss plot\n",
        "\n",
        "Using the arrays that you have (from previous task in the above section), visualize Loss plot (train and validation together)"
      ],
      "metadata": {
        "id": "OIFKhbNweZzc"
      }
    },
    {
      "cell_type": "code",
      "source": [
        "plt.plot(range(num_epochs), train_losses, label='Train Loss')\n",
        "plt.plot(range(num_epochs), val_losses, label='Validation Loss')\n",
        "plt.xlabel('Epochs')\n",
        "plt.ylabel('Loss')\n",
        "plt.legend()\n",
        "plt.show()"
      ],
      "metadata": {
        "colab": {
          "base_uri": "https://localhost:8080/",
          "height": 449
        },
        "id": "-uTbAB5YemMp",
        "outputId": "aad8eb1c-11e7-480d-f66a-a62a5904b10b"
      },
      "execution_count": 32,
      "outputs": [
        {
          "output_type": "display_data",
          "data": {
            "text/plain": [
              "<Figure size 640x480 with 1 Axes>"
            ],
            "image/png": "[encoded data removed]"
          },
          "metadata": {}
        }
      ]
    },
    {
      "cell_type": "markdown",
      "source": [
        "## Evaluation\n",
        "\n",
        "Test your trained model (using the Test Dataloader that you have)."
      ],
      "metadata": {
        "id": "MRo2s0wMakLe"
      }
    },
    {
      "cell_type": "code",
      "source": [
        "model.eval()\n",
        "test_loss = 0.0\n",
        "correct = 0\n",
        "total = 0\n",
        "with torch.no_grad():\n",
        "    for inputs, labels in test_loader:\n",
        "        outputs = model(inputs)\n",
        "        loss = criterion(outputs.squeeze(), labels)\n",
        "        test_loss += loss.item()\n",
        "        predicted = (outputs.squeeze() > 0.5).float()\n",
        "        total += labels.size(0)\n",
        "        correct += (predicted == labels).sum().item()\n",
        "\n",
        "test_loss /= len(test_loader)\n",
        "accuracy = correct / total\n",
        "\n",
        "print(\"Test Accuracy: \", accuracy)"
      ],
      "metadata": {
        "colab": {
          "base_uri": "https://localhost:8080/"
        },
        "id": "6TplSeYPakTT",
        "outputId": "5e578546-8f22-48b7-d6eb-9b1db5b49e1b"
      },
      "execution_count": 33,
      "outputs": [
        {
          "output_type": "stream",
          "name": "stdout",
          "text": [
            "Test Accuracy:  0.9005860886873825\n"
          ]
        }
      ]
    }
  ]
}